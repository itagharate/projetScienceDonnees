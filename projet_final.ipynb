{
 "cells": [
  {
   "cell_type": "markdown",
   "metadata": {},
   "source": [
    "# PROJET HMIN232 GROUPE AS"
   ]
  },
  {
   "cell_type": "markdown",
   "metadata": {},
   "source": [
    "# LEFEVRE ALEXY"
   ]
  },
  {
   "cell_type": "markdown",
   "metadata": {},
   "source": [
    "# BELAID MASSINISSA MOHAMED"
   ]
  },
  {
   "cell_type": "markdown",
   "metadata": {},
   "source": [
    "# BELGHANEM RYADH"
   ]
  },
  {
   "cell_type": "markdown",
   "metadata": {},
   "source": [
    "# Importation des libraries que nous allons utiliser"
   ]
  },
  {
   "cell_type": "code",
   "execution_count": 1,
   "metadata": {},
   "outputs": [],
   "source": [
    "import pandas as pd\n",
    "import numpy as np\n",
    "import pickle\n",
    "import sklearn\n",
    "from sklearn.naive_bayes import GaussianNB\n",
    "from sklearn.metrics import accuracy_score\n",
    "from sklearn.model_selection import train_test_split\n",
    "from sklearn.model_selection import KFold\n",
    "from sklearn.model_selection import cross_val_score\n",
    "from sklearn.metrics import confusion_matrix\n",
    "from sklearn.metrics import classification_report\n",
    "import seaborn as sns\n",
    "import matplotlib.pyplot as plt\n",
    "from sklearn.metrics import precision_recall_fscore_support as score\n",
    "from sklearn.linear_model import LogisticRegression\n",
    "from sklearn.tree import DecisionTreeClassifier\n",
    "from sklearn.neighbors import KNeighborsClassifier\n",
    "from sklearn.naive_bayes import GaussianNB\n",
    "from sklearn.svm import SVC\n",
    "from sklearn.model_selection import GridSearchCV\n",
    "from sklearn.ensemble import RandomForestClassifier\n",
    "from sklearn.preprocessing import LabelEncoder\n",
    "from sklearn.feature_extraction.text import CountVectorizer\n",
    "from sklearn.feature_extraction.text import TfidfTransformer\n",
    "#Sickit learn met régulièrement à jour des versions et indique des futurs warnings.\n",
    "#ces deux lignes permettent de ne pas les afficher.\n",
    "import warnings\n",
    "warnings.filterwarnings(\"ignore\", category=FutureWarning)\n",
    "\n",
    "from nltk.tokenize import word_tokenize\n",
    "from nltk import sent_tokenize\n",
    "from nltk.stem import WordNetLemmatizer\n",
    "\n",
    "import re\n",
    "import contractions\n",
    "\n",
    "import functools\n",
    "import operator\n",
    "\n",
    "class_label_encoder = LabelEncoder()\n",
    "\n",
    "pd.options.display.max_colwidth = 200"
   ]
  },
  {
   "cell_type": "markdown",
   "metadata": {},
   "source": [
    "# Importation du jeu de données"
   ]
  },
  {
   "cell_type": "code",
   "execution_count": 2,
   "metadata": {},
   "outputs": [],
   "source": [
    "names = [\"id\",\"auteur\",\"lien_auteur\",\"nom_auteur\",\"reclamation_examinee\",\"date_examination\",\"source\",\"lien\",\"pub_nom_auteur\",\"pub_lien_auteur\",\n",
    "         \"date_publication\",\"contenu\",\"extra_auteur\",\"extra_contenu\",\"extra_publication_examinée\",\n",
    "         \"extra_mot_cle\",\"extra_lien_reference\",\"extra_tags\",\"extra_titre\",\"note_nom_alternatif\",\"meilleure_note\",\n",
    "         \"valeur_note\",\"pire_note\"]\n",
    "df = pd.read_csv('../Dataset/claim.csv', sep=',', names = names, skiprows = 1, nrows = 5000)\n",
    "df2 = pd.read_csv('../Dataset/claim.csv', sep=',', names = names, skiprows = 5001, nrows = 5000)\n",
    "df3 = pd.read_csv('../Dataset/claim.csv', sep=',', names = names, skiprows = 10001, nrows = 5000)\n",
    "df4 = pd.read_csv('../Dataset/claim.csv', sep=',', names = names, skiprows = 15001, nrows = 5000)\n",
    "df5 = pd.read_csv('../Dataset/claim.csv', sep=',', names = names, skiprows = 20001, nrows = 5000)\n",
    "df6 = pd.read_csv('../Dataset/claim.csv', sep=',', names = names, skiprows = 25001, nrows = 5000)\n",
    "df7 = pd.read_csv('../Dataset/claim.csv', sep=',', names = names, skiprows = 30001, nrows = 5000)\n"
   ]
  },
  {
   "cell_type": "code",
   "execution_count": 3,
   "metadata": {},
   "outputs": [],
   "source": [
    "df = pd.concat([df, df2])\n",
    "df = pd.concat([df, df3])\n",
    "df = pd.concat([df, df4])\n",
    "df = pd.concat([df, df5])\n",
    "df = pd.concat([df, df6])\n",
    "df = pd.concat([df, df7])\n"
   ]
  },
  {
   "cell_type": "markdown",
   "metadata": {},
   "source": [
    "# Analyse des données"
   ]
  },
  {
   "cell_type": "code",
   "execution_count": 4,
   "metadata": {},
   "outputs": [
    {
     "data": {
      "text/plain": [
       "(35000, 23)"
      ]
     },
     "metadata": {},
     "output_type": "display_data"
    },
    {
     "name": "stdout",
     "output_type": "stream",
     "text": [
      "<class 'pandas.core.frame.DataFrame'>\n",
      "Int64Index: 35000 entries, 0 to 4999\n",
      "Data columns (total 23 columns):\n",
      " #   Column                      Non-Null Count  Dtype  \n",
      "---  ------                      --------------  -----  \n",
      " 0   id                          35000 non-null  int64  \n",
      " 1   auteur                      0 non-null      float64\n",
      " 2   lien_auteur                 35000 non-null  object \n",
      " 3   nom_auteur                  0 non-null      float64\n",
      " 4   reclamation_examinee        35000 non-null  object \n",
      " 5   date_examination            34577 non-null  object \n",
      " 6   source                      35000 non-null  object \n",
      " 7   lien                        35000 non-null  object \n",
      " 8   pub_nom_auteur              16507 non-null  object \n",
      " 9   pub_lien_auteur             1303 non-null   object \n",
      " 10  date_publication            16479 non-null  object \n",
      " 11  contenu                     34965 non-null  object \n",
      " 12  extra_auteur                35000 non-null  object \n",
      " 13  extra_contenu               35000 non-null  object \n",
      " 14  extra_publication_examinée  35000 non-null  object \n",
      " 15  extra_mot_cle               35000 non-null  object \n",
      " 16  extra_lien_reference        31375 non-null  object \n",
      " 17  extra_tags                  29175 non-null  object \n",
      " 18  extra_titre                 34968 non-null  object \n",
      " 19  note_nom_alternatif         34937 non-null  object \n",
      " 20  meilleure_note              2480 non-null   float64\n",
      " 21  valeur_note                 2480 non-null   float64\n",
      " 22  pire_note                   2212 non-null   float64\n",
      "dtypes: float64(5), int64(1), object(17)\n",
      "memory usage: 4.1+ MB\n"
     ]
    },
    {
     "data": {
      "text/plain": [
       "None"
      ]
     },
     "metadata": {},
     "output_type": "display_data"
    }
   ],
   "source": [
    "display(df.shape)\n",
    "display(df.info())"
   ]
  },
  {
   "cell_type": "code",
   "execution_count": 5,
   "metadata": {},
   "outputs": [
    {
     "data": {
      "text/plain": [
       "<matplotlib.axes._subplots.AxesSubplot at 0x38674088>"
      ]
     },
     "execution_count": 5,
     "metadata": {},
     "output_type": "execute_result"
    },
    {
     "data": {
      "image/png": "[encoded data removed]",
      "text/plain": [
       "<Figure size 432x288 with 1 Axes>"
      ]
     },
     "metadata": {
      "needs_background": "light"
     },
     "output_type": "display_data"
    }
   ],
   "source": [
    "sns.heatmap(df.isnull(), cbar=False)"
   ]
  },
  {
   "cell_type": "markdown",
   "metadata": {},
   "source": [
    "# On supprime les colonnes qui ont toutes les lignes Nan "
   ]
  },
  {
   "cell_type": "code",
   "execution_count": 6,
   "metadata": {},
   "outputs": [],
   "source": [
    "del df[\"auteur\"]\n",
    "del df[\"nom_auteur\"]\n",
    "del df[\"pub_lien_auteur\"]\n",
    "del df[\"meilleure_note\"]\n",
    "del df[\"valeur_note\"]\n",
    "del df[\"pire_note\"]"
   ]
  },
  {
   "cell_type": "code",
   "execution_count": 7,
   "metadata": {},
   "outputs": [
    {
     "data": {
      "text/html": [
       "<div>\n",
       "<style scoped>\n",
       "    .dataframe tbody tr th:only-of-type {\n",
       "        vertical-align: middle;\n",
       "    }\n",
       "\n",
       "    .dataframe tbody tr th {\n",
       "        vertical-align: top;\n",
       "    }\n",
       "\n",
       "    .dataframe thead th {\n",
       "        text-align: right;\n",
       "    }\n",
       "</style>\n",
       "<table border=\"1\" class=\"dataframe\">\n",
       "  <thead>\n",
       "    <tr style=\"text-align: right;\">\n",
       "      <th></th>\n",
       "      <th>id</th>\n",
       "      <th>lien_auteur</th>\n",
       "      <th>reclamation_examinee</th>\n",
       "      <th>date_examination</th>\n",
       "      <th>source</th>\n",
       "      <th>lien</th>\n",
       "      <th>pub_nom_auteur</th>\n",
       "      <th>date_publication</th>\n",
       "      <th>contenu</th>\n",
       "      <th>extra_auteur</th>\n",
       "      <th>extra_contenu</th>\n",
       "      <th>extra_publication_examinée</th>\n",
       "      <th>extra_mot_cle</th>\n",
       "      <th>extra_lien_reference</th>\n",
       "      <th>extra_tags</th>\n",
       "      <th>extra_titre</th>\n",
       "      <th>note_nom_alternatif</th>\n",
       "    </tr>\n",
       "  </thead>\n",
       "  <tbody>\n",
       "    <tr>\n",
       "      <th>2920</th>\n",
       "      <td>4445</td>\n",
       "      <td>politifact</td>\n",
       "      <td>Adding ethanol to gas \"\"raises food costs.\"\"</td>\n",
       "      <td>2012-04-06</td>\n",
       "      <td>politifact</td>\n",
       "      <td>http://www.politifact.com/tennessee/statements/2012/apr/06/james-durkan/tennessee-senate-candidate-says-putting-ethanol-ga/</td>\n",
       "      <td>James Durkan</td>\n",
       "      <td>2012-04-06</td>\n",
       "      <td>Whether or not it’s a good idea to add ethanol to gasoline is a debate that has been around for years. One of the key disputes has been the impact ethanol-infused gas has on food supplies and food...</td>\n",
       "      <td>[]</td>\n",
       "      <td>[{\"id\" : 10048\",\"\"begin\": 39,\"end\": 46,\"entity\": \"Ethanol\",\"text\": \"ethanol\",\"score\": 0.42,\"categories\" : [\"Alcohol solvents\",\"Anatomical preservation\",\"Anxiolytics\",\"Disinfectants\",\"Drugs\",\"Ethan...</td>\n",
       "      <td>[{\"id\" : 10048\",\"\"begin\": 7,\"end\": 14,\"entity\": \"Ethanol\",\"text\": \"ethanol\",\"score\": 0.55,\"categories\" : [\"Alcohol solvents\",\"Anatomical preservation\",\"Anxiolytics\",\"Disinfectants\",\"Drugs\",\"Ethano...</td>\n",
       "      <td>[]</td>\n",
       "      <td>https://www.politifact.com/wisconsin/statements/2011/may/29/wisconsin-corn-growers-association/wisconsin-corn-growers-association-says-without-et/,http://blogs.desmoinesregister.com/dmr/index.php/...</td>\n",
       "      <td>Agriculture,Energy</td>\n",
       "      <td>Tennessee Senate candidate says putting ethanol in gas raises the price of food</td>\n",
       "      <td>Mostly True</td>\n",
       "    </tr>\n",
       "  </tbody>\n",
       "</table>\n",
       "</div>"
      ],
      "text/plain": [
       "        id lien_auteur                          reclamation_examinee  \\\n",
       "2920  4445  politifact  Adding ethanol to gas \"\"raises food costs.\"\"   \n",
       "\n",
       "     date_examination      source  \\\n",
       "2920       2012-04-06  politifact   \n",
       "\n",
       "                                                                                                                             lien  \\\n",
       "2920  http://www.politifact.com/tennessee/statements/2012/apr/06/james-durkan/tennessee-senate-candidate-says-putting-ethanol-ga/   \n",
       "\n",
       "     pub_nom_auteur date_publication  \\\n",
       "2920   James Durkan       2012-04-06   \n",
       "\n",
       "                                                                                                                                                                                                      contenu  \\\n",
       "2920  Whether or not it’s a good idea to add ethanol to gasoline is a debate that has been around for years. One of the key disputes has been the impact ethanol-infused gas has on food supplies and food...   \n",
       "\n",
       "     extra_auteur  \\\n",
       "2920           []   \n",
       "\n",
       "                                                                                                                                                                                                extra_contenu  \\\n",
       "2920  [{\"id\" : 10048\",\"\"begin\": 39,\"end\": 46,\"entity\": \"Ethanol\",\"text\": \"ethanol\",\"score\": 0.42,\"categories\" : [\"Alcohol solvents\",\"Anatomical preservation\",\"Anxiolytics\",\"Disinfectants\",\"Drugs\",\"Ethan...   \n",
       "\n",
       "                                                                                                                                                                                   extra_publication_examinée  \\\n",
       "2920  [{\"id\" : 10048\",\"\"begin\": 7,\"end\": 14,\"entity\": \"Ethanol\",\"text\": \"ethanol\",\"score\": 0.55,\"categories\" : [\"Alcohol solvents\",\"Anatomical preservation\",\"Anxiolytics\",\"Disinfectants\",\"Drugs\",\"Ethano...   \n",
       "\n",
       "     extra_mot_cle  \\\n",
       "2920            []   \n",
       "\n",
       "                                                                                                                                                                                         extra_lien_reference  \\\n",
       "2920  https://www.politifact.com/wisconsin/statements/2011/may/29/wisconsin-corn-growers-association/wisconsin-corn-growers-association-says-without-et/,http://blogs.desmoinesregister.com/dmr/index.php/...   \n",
       "\n",
       "              extra_tags  \\\n",
       "2920  Agriculture,Energy   \n",
       "\n",
       "                                                                          extra_titre  \\\n",
       "2920  Tennessee Senate candidate says putting ethanol in gas raises the price of food   \n",
       "\n",
       "     note_nom_alternatif  \n",
       "2920         Mostly True  "
      ]
     },
     "metadata": {},
     "output_type": "display_data"
    },
    {
     "data": {
      "text/plain": [
       "(35000, 17)"
      ]
     },
     "execution_count": 7,
     "metadata": {},
     "output_type": "execute_result"
    }
   ],
   "source": [
    "display(df.sample(1))\n",
    "df.shape"
   ]
  },
  {
   "cell_type": "markdown",
   "metadata": {},
   "source": [
    "Nouveau nombre de lignes et colonnes "
   ]
  },
  {
   "cell_type": "code",
   "execution_count": 8,
   "metadata": {},
   "outputs": [
    {
     "data": {
      "text/plain": [
       "count     35000\n",
       "unique     2760\n",
       "top          []\n",
       "freq      21337\n",
       "Name: extra_auteur, dtype: object"
      ]
     },
     "metadata": {},
     "output_type": "display_data"
    }
   ],
   "source": [
    "display(df[\"extra_auteur\"].describe())"
   ]
  },
  {
   "cell_type": "code",
   "execution_count": 9,
   "metadata": {},
   "outputs": [],
   "source": [
    "del df[\"extra_auteur\"]"
   ]
  },
  {
   "cell_type": "code",
   "execution_count": 10,
   "metadata": {},
   "outputs": [
    {
     "name": "stdout",
     "output_type": "stream",
     "text": [
      "id\n"
     ]
    },
    {
     "data": {
      "text/plain": [
       "count    35000.000000\n",
       "mean      8761.581400\n",
       "std       5100.141695\n",
       "min          0.000000\n",
       "25%       4358.750000\n",
       "50%       8733.500000\n",
       "75%      13108.250000\n",
       "max      18474.000000\n",
       "Name: id, dtype: float64"
      ]
     },
     "metadata": {},
     "output_type": "display_data"
    },
    {
     "name": "stdout",
     "output_type": "stream",
     "text": [
      "___________________\n",
      "lien_auteur\n"
     ]
    },
    {
     "data": {
      "text/plain": [
       "count      35000\n",
       "unique         3\n",
       "top       snopes\n",
       "freq       18475\n",
       "Name: lien_auteur, dtype: object"
      ]
     },
     "metadata": {},
     "output_type": "display_data"
    },
    {
     "name": "stdout",
     "output_type": "stream",
     "text": [
      "___________________\n",
      "reclamation_examinee\n"
     ]
    },
    {
     "data": {
      "text/plain": [
       "count                                                                                                       35000\n",
       "unique                                                                                                      29246\n",
       "top       NASA and NOAA faked climate data in the GISTEMP global temperature record to exaggerate global warming.\n",
       "freq                                                                                                         1132\n",
       "Name: reclamation_examinee, dtype: object"
      ]
     },
     "metadata": {},
     "output_type": "display_data"
    },
    {
     "name": "stdout",
     "output_type": "stream",
     "text": [
      "___________________\n",
      "date_examination\n"
     ]
    },
    {
     "data": {
      "text/plain": [
       "count          34577\n",
       "unique          4846\n",
       "top       2019-10-04\n",
       "freq            2273\n",
       "Name: date_examination, dtype: object"
      ]
     },
     "metadata": {},
     "output_type": "display_data"
    },
    {
     "name": "stdout",
     "output_type": "stream",
     "text": [
      "___________________\n",
      "source\n"
     ]
    },
    {
     "data": {
      "text/plain": [
       "count      35000\n",
       "unique         3\n",
       "top       snopes\n",
       "freq       18475\n",
       "Name: source, dtype: object"
      ]
     },
     "metadata": {},
     "output_type": "display_data"
    },
    {
     "name": "stdout",
     "output_type": "stream",
     "text": [
      "___________________\n",
      "lien\n"
     ]
    },
    {
     "data": {
      "text/plain": [
       "count                                                                  35000\n",
       "unique                                                                 29301\n",
       "top       https://www.snopes.com/fact-check/bill-nye-arrested-illegal-drugs/\n",
       "freq                                                                    1132\n",
       "Name: lien, dtype: object"
      ]
     },
     "metadata": {},
     "output_type": "display_data"
    },
    {
     "name": "stdout",
     "output_type": "stream",
     "text": [
      "___________________\n",
      "pub_nom_auteur\n"
     ]
    },
    {
     "data": {
      "text/plain": [
       "count            16507\n",
       "unique            4142\n",
       "top       Donald Trump\n",
       "freq               734\n",
       "Name: pub_nom_auteur, dtype: object"
      ]
     },
     "metadata": {},
     "output_type": "display_data"
    },
    {
     "name": "stdout",
     "output_type": "stream",
     "text": [
      "___________________\n",
      "date_publication\n"
     ]
    },
    {
     "data": {
      "text/plain": [
       "count          16479\n",
       "unique          3809\n",
       "top       2011-10-11\n",
       "freq              26\n",
       "Name: date_publication, dtype: object"
      ]
     },
     "metadata": {},
     "output_type": "display_data"
    },
    {
     "name": "stdout",
     "output_type": "stream",
     "text": [
      "___________________\n",
      "contenu\n"
     ]
    },
    {
     "data": {
      "text/plain": [
       "count                                                                                                                                                                                                       34965\n",
       "unique                                                                                                                                                                                                      29251\n",
       "top       An Oct. 3, 2019, town hall event in New York City hosted by Rep. Alexandria Ocasio-Cortez, D-N.Y., was going smoothly until a woman in a black jacket stood up and started rambling her fears about ...\n",
       "freq                                                                                                                                                                                                         1132\n",
       "Name: contenu, dtype: object"
      ]
     },
     "metadata": {},
     "output_type": "display_data"
    },
    {
     "name": "stdout",
     "output_type": "stream",
     "text": [
      "___________________\n",
      "extra_contenu\n"
     ]
    },
    {
     "data": {
      "text/plain": [
       "count                                                                                                                                                                                                       35000\n",
       "unique                                                                                                                                                                                                      29195\n",
       "top       [{\"id\" : 3524766\",\"\"begin\": 205,\"end\": 212,\"entity\": \"YouTube\",\"text\": \"YouTube\",\"score\": 0.42,\"categories\" : [\"YouTube\",\"2005 establishments in the United States\",\"Article Feedback 5 Additional A...\n",
       "freq                                                                                                                                                                                                         1132\n",
       "Name: extra_contenu, dtype: object"
      ]
     },
     "metadata": {},
     "output_type": "display_data"
    },
    {
     "name": "stdout",
     "output_type": "stream",
     "text": [
      "___________________\n",
      "extra_publication_examinée\n"
     ]
    },
    {
     "data": {
      "text/plain": [
       "count     35000\n",
       "unique    17960\n",
       "top          []\n",
       "freq      11786\n",
       "Name: extra_publication_examinée, dtype: object"
      ]
     },
     "metadata": {},
     "output_type": "display_data"
    },
    {
     "name": "stdout",
     "output_type": "stream",
     "text": [
      "___________________\n",
      "extra_mot_cle\n"
     ]
    },
    {
     "data": {
      "text/plain": [
       "count     35000\n",
       "unique     6194\n",
       "top          []\n",
       "freq      25462\n",
       "Name: extra_mot_cle, dtype: object"
      ]
     },
     "metadata": {},
     "output_type": "display_data"
    },
    {
     "name": "stdout",
     "output_type": "stream",
     "text": [
      "___________________\n",
      "extra_lien_reference\n"
     ]
    },
    {
     "data": {
      "text/plain": [
       "count                                                                                                                                                                                                       31375\n",
       "unique                                                                                                                                                                                                      25508\n",
       "top       https://twitter.com/redsteeze/status/1179914912543363072?ref_src=twsrc%5Etfw%7Ctwcamp%5Etweetembed%7Ctwterm%5E1179914912543363072&ref_url=https%3A%2F%2Fwww.newsweek.com%2Feat-babies-twitter-reacts...\n",
       "freq                                                                                                                                                                                                         1132\n",
       "Name: extra_lien_reference, dtype: object"
      ]
     },
     "metadata": {},
     "output_type": "display_data"
    },
    {
     "name": "stdout",
     "output_type": "stream",
     "text": [
      "___________________\n",
      "extra_tags\n"
     ]
    },
    {
     "data": {
      "text/plain": [
       "count           29175\n",
       "unique          11812\n",
       "top       ASP Article\n",
       "freq             1511\n",
       "Name: extra_tags, dtype: object"
      ]
     },
     "metadata": {},
     "output_type": "display_data"
    },
    {
     "name": "stdout",
     "output_type": "stream",
     "text": [
      "___________________\n",
      "extra_titre\n"
     ]
    },
    {
     "data": {
      "text/plain": [
       "count                                                                              34968\n",
       "unique                                                                             29211\n",
       "top       Did Monica Lewinsky Offer to ‘Take One For (the) Team’ to Get Trump Impeached?\n",
       "freq                                                                                1132\n",
       "Name: extra_titre, dtype: object"
      ]
     },
     "metadata": {},
     "output_type": "display_data"
    },
    {
     "name": "stdout",
     "output_type": "stream",
     "text": [
      "___________________\n",
      "note_nom_alternatif\n"
     ]
    },
    {
     "data": {
      "text/plain": [
       "count     34937\n",
       "unique      149\n",
       "top       False\n",
       "freq      10498\n",
       "Name: note_nom_alternatif, dtype: object"
      ]
     },
     "metadata": {},
     "output_type": "display_data"
    },
    {
     "name": "stdout",
     "output_type": "stream",
     "text": [
      "___________________\n"
     ]
    }
   ],
   "source": [
    "for column in df :\n",
    "    print(column)\n",
    "    display(df[column].describe())\n",
    "    print(\"___________________\")\n",
    "    "
   ]
  },
  {
   "cell_type": "markdown",
   "metadata": {},
   "source": [
    "On supprimme les doublons"
   ]
  },
  {
   "cell_type": "code",
   "execution_count": 11,
   "metadata": {},
   "outputs": [],
   "source": [
    "df.drop_duplicates(subset=[\"source\",\"contenu\",\"note_nom_alternatif\",\"date_examination\"],keep='first', inplace=True)"
   ]
  },
  {
   "cell_type": "code",
   "execution_count": 12,
   "metadata": {},
   "outputs": [
    {
     "data": {
      "text/plain": [
       "(29279, 16)"
      ]
     },
     "execution_count": 12,
     "metadata": {},
     "output_type": "execute_result"
    }
   ],
   "source": [
    "df.shape"
   ]
  },
  {
   "cell_type": "code",
   "execution_count": 13,
   "metadata": {},
   "outputs": [],
   "source": [
    "df = df.drop([\"extra_contenu\",\"extra_publication_examinée\",\"extra_mot_cle\"], axis=1)"
   ]
  },
  {
   "cell_type": "code",
   "execution_count": 14,
   "metadata": {},
   "outputs": [
    {
     "data": {
      "text/html": [
       "<div>\n",
       "<style scoped>\n",
       "    .dataframe tbody tr th:only-of-type {\n",
       "        vertical-align: middle;\n",
       "    }\n",
       "\n",
       "    .dataframe tbody tr th {\n",
       "        vertical-align: top;\n",
       "    }\n",
       "\n",
       "    .dataframe thead th {\n",
       "        text-align: right;\n",
       "    }\n",
       "</style>\n",
       "<table border=\"1\" class=\"dataframe\">\n",
       "  <thead>\n",
       "    <tr style=\"text-align: right;\">\n",
       "      <th></th>\n",
       "      <th>id</th>\n",
       "      <th>lien_auteur</th>\n",
       "      <th>reclamation_examinee</th>\n",
       "      <th>date_examination</th>\n",
       "      <th>source</th>\n",
       "      <th>lien</th>\n",
       "      <th>pub_nom_auteur</th>\n",
       "      <th>date_publication</th>\n",
       "      <th>contenu</th>\n",
       "      <th>extra_lien_reference</th>\n",
       "      <th>extra_tags</th>\n",
       "      <th>extra_titre</th>\n",
       "      <th>note_nom_alternatif</th>\n",
       "    </tr>\n",
       "  </thead>\n",
       "  <tbody>\n",
       "    <tr>\n",
       "      <th>2851</th>\n",
       "      <td>4376</td>\n",
       "      <td>politifact</td>\n",
       "      <td>The Supreme Court said the individual mandate \"\"is a tax. So it's a tax.\"\"</td>\n",
       "      <td>2012-07-05</td>\n",
       "      <td>politifact</td>\n",
       "      <td>http://www.politifact.com/truth-o-meter/statements/2012/jul/05/mitt-romney/mitt-romney-says-health-care-laws-penalty-tax/</td>\n",
       "      <td>Mitt Romney</td>\n",
       "      <td>2012-07-04</td>\n",
       "      <td>In the days following the Supreme Court’s decision on President Barack Obama’s health care law, supporters and critics of the law sparred over the question of whether or not the individual mandate...</td>\n",
       "      <td>https://www.politifact.com/truth-o-meter/statements/2012/jun/28/sarah-palin/sarah-palin-said-barack-obama-once-said-individual/,https://www.youtube.com/watch?v=aDfH_lajwmA&amp;feature=youtu.be,https:/...</td>\n",
       "      <td>Health Care,Legal Issues,Taxes</td>\n",
       "      <td>Mitt Romney says health care law's penalty is a tax</td>\n",
       "      <td>Mostly True</td>\n",
       "    </tr>\n",
       "  </tbody>\n",
       "</table>\n",
       "</div>"
      ],
      "text/plain": [
       "        id lien_auteur  \\\n",
       "2851  4376  politifact   \n",
       "\n",
       "                                                            reclamation_examinee  \\\n",
       "2851  The Supreme Court said the individual mandate \"\"is a tax. So it's a tax.\"\"   \n",
       "\n",
       "     date_examination      source  \\\n",
       "2851       2012-07-05  politifact   \n",
       "\n",
       "                                                                                                                           lien  \\\n",
       "2851  http://www.politifact.com/truth-o-meter/statements/2012/jul/05/mitt-romney/mitt-romney-says-health-care-laws-penalty-tax/   \n",
       "\n",
       "     pub_nom_auteur date_publication  \\\n",
       "2851    Mitt Romney       2012-07-04   \n",
       "\n",
       "                                                                                                                                                                                                      contenu  \\\n",
       "2851  In the days following the Supreme Court’s decision on President Barack Obama’s health care law, supporters and critics of the law sparred over the question of whether or not the individual mandate...   \n",
       "\n",
       "                                                                                                                                                                                         extra_lien_reference  \\\n",
       "2851  https://www.politifact.com/truth-o-meter/statements/2012/jun/28/sarah-palin/sarah-palin-said-barack-obama-once-said-individual/,https://www.youtube.com/watch?v=aDfH_lajwmA&feature=youtu.be,https:/...   \n",
       "\n",
       "                          extra_tags  \\\n",
       "2851  Health Care,Legal Issues,Taxes   \n",
       "\n",
       "                                              extra_titre note_nom_alternatif  \n",
       "2851  Mitt Romney says health care law's penalty is a tax         Mostly True  "
      ]
     },
     "metadata": {},
     "output_type": "display_data"
    },
    {
     "data": {
      "text/plain": [
       "(29279, 13)"
      ]
     },
     "execution_count": 14,
     "metadata": {},
     "output_type": "execute_result"
    }
   ],
   "source": [
    "display(df.sample(1))\n",
    "df.shape"
   ]
  },
  {
   "cell_type": "code",
   "execution_count": 15,
   "metadata": {},
   "outputs": [
    {
     "data": {
      "text/plain": [
       "<matplotlib.axes._subplots.AxesSubplot at 0x2fc804f0>"
      ]
     },
     "execution_count": 15,
     "metadata": {},
     "output_type": "execute_result"
    },
    {
     "data": {
      "image/png": "[encoded data removed]",
      "text/plain": [
       "<Figure size 432x288 with 1 Axes>"
      ]
     },
     "metadata": {
      "needs_background": "light"
     },
     "output_type": "display_data"
    }
   ],
   "source": [
    "sns.countplot(x='note_nom_alternatif', data=df)"
   ]
  },
  {
   "cell_type": "code",
   "execution_count": 16,
   "metadata": {},
   "outputs": [
    {
     "name": "stderr",
     "output_type": "stream",
     "text": [
      "d:\\docs\\cours\\m1\\hmin232\\env\\lib\\site-packages\\seaborn\\axisgrid.py:856: UserWarning: Tight layout not applied. tight_layout cannot make axes width small enough to accommodate all axes decorations\n",
      "  self.fig.tight_layout()\n"
     ]
    },
    {
     "data": {
      "text/plain": [
       "<seaborn.axisgrid.FacetGrid at 0x22da6970>"
      ]
     },
     "execution_count": 16,
     "metadata": {},
     "output_type": "execute_result"
    },
    {
     "data": {
      "image/png": "[encoded data removed]",
      "text/plain": [
       "<Figure size 1080x360 with 3 Axes>"
      ]
     },
     "metadata": {
      "needs_background": "light"
     },
     "output_type": "display_data"
    }
   ],
   "source": [
    "sns.catplot(x='note_nom_alternatif', col='source', kind='count', data=df)"
   ]
  },
  {
   "cell_type": "code",
   "execution_count": 17,
   "metadata": {},
   "outputs": [],
   "source": [
    "def toLower(mot) :\n",
    "    return str(mot).lower()"
   ]
  },
  {
   "cell_type": "code",
   "execution_count": 18,
   "metadata": {},
   "outputs": [
    {
     "data": {
      "text/html": [
       "<div>\n",
       "<style scoped>\n",
       "    .dataframe tbody tr th:only-of-type {\n",
       "        vertical-align: middle;\n",
       "    }\n",
       "\n",
       "    .dataframe tbody tr th {\n",
       "        vertical-align: top;\n",
       "    }\n",
       "\n",
       "    .dataframe thead th {\n",
       "        text-align: right;\n",
       "    }\n",
       "</style>\n",
       "<table border=\"1\" class=\"dataframe\">\n",
       "  <thead>\n",
       "    <tr style=\"text-align: right;\">\n",
       "      <th></th>\n",
       "      <th>id</th>\n",
       "      <th>lien_auteur</th>\n",
       "      <th>reclamation_examinee</th>\n",
       "      <th>date_examination</th>\n",
       "      <th>source</th>\n",
       "      <th>lien</th>\n",
       "      <th>pub_nom_auteur</th>\n",
       "      <th>date_publication</th>\n",
       "      <th>contenu</th>\n",
       "      <th>extra_lien_reference</th>\n",
       "      <th>extra_tags</th>\n",
       "      <th>extra_titre</th>\n",
       "      <th>note_nom_alternatif</th>\n",
       "    </tr>\n",
       "  </thead>\n",
       "  <tbody>\n",
       "    <tr>\n",
       "      <th>3985</th>\n",
       "      <td>510</td>\n",
       "      <td>politifact</td>\n",
       "      <td>Says Bernie Sanders \"\"has reversed his position on immunity\"\" for gun manufacturers and sellers.</td>\n",
       "      <td>2016-01-17</td>\n",
       "      <td>politifact</td>\n",
       "      <td>http://www.politifact.com/truth-o-meter/statements/2016/jan/18/hillary-clinton/fact-checking-gun-manufacturer-liability-bernie/</td>\n",
       "      <td>Hillary Clinton</td>\n",
       "      <td>2016-01-17</td>\n",
       "      <td>In the increasingly competitive Democratic primary for president, former Secretary of State Hillary Clinton has spent months hammering Vermont Sen. Bernie Sanders for his vote on a 2005 bill that ...</td>\n",
       "      <td>https://www.govtrack.us/congress/votes/109-2005/h534,https://www.govtrack.us/congress/votes/108-2003/h124,https://berniesanders.com/press-release/sanders-supports-gun-safety-bill/,https://www.govt...</td>\n",
       "      <td>Guns,Legal Issues</td>\n",
       "      <td>Hillary Clinton correct that Bernie Sanders flip-flopped on liability for gun makers, sellers</td>\n",
       "      <td>true</td>\n",
       "    </tr>\n",
       "  </tbody>\n",
       "</table>\n",
       "</div>"
      ],
      "text/plain": [
       "       id lien_auteur  \\\n",
       "3985  510  politifact   \n",
       "\n",
       "                                                                                  reclamation_examinee  \\\n",
       "3985  Says Bernie Sanders \"\"has reversed his position on immunity\"\" for gun manufacturers and sellers.   \n",
       "\n",
       "     date_examination      source  \\\n",
       "3985       2016-01-17  politifact   \n",
       "\n",
       "                                                                                                                                 lien  \\\n",
       "3985  http://www.politifact.com/truth-o-meter/statements/2016/jan/18/hillary-clinton/fact-checking-gun-manufacturer-liability-bernie/   \n",
       "\n",
       "       pub_nom_auteur date_publication  \\\n",
       "3985  Hillary Clinton       2016-01-17   \n",
       "\n",
       "                                                                                                                                                                                                      contenu  \\\n",
       "3985  In the increasingly competitive Democratic primary for president, former Secretary of State Hillary Clinton has spent months hammering Vermont Sen. Bernie Sanders for his vote on a 2005 bill that ...   \n",
       "\n",
       "                                                                                                                                                                                         extra_lien_reference  \\\n",
       "3985  https://www.govtrack.us/congress/votes/109-2005/h534,https://www.govtrack.us/congress/votes/108-2003/h124,https://berniesanders.com/press-release/sanders-supports-gun-safety-bill/,https://www.govt...   \n",
       "\n",
       "             extra_tags  \\\n",
       "3985  Guns,Legal Issues   \n",
       "\n",
       "                                                                                        extra_titre  \\\n",
       "3985  Hillary Clinton correct that Bernie Sanders flip-flopped on liability for gun makers, sellers   \n",
       "\n",
       "     note_nom_alternatif  \n",
       "3985                true  "
      ]
     },
     "execution_count": 18,
     "metadata": {},
     "output_type": "execute_result"
    }
   ],
   "source": [
    "df[\"note_nom_alternatif\"] = df[\"note_nom_alternatif\"].apply(toLower)\n",
    "df.sample(1)"
   ]
  },
  {
   "cell_type": "code",
   "execution_count": 19,
   "metadata": {},
   "outputs": [
    {
     "data": {
      "text/plain": [
       "<seaborn.axisgrid.FacetGrid at 0x389cb7f0>"
      ]
     },
     "execution_count": 19,
     "metadata": {},
     "output_type": "execute_result"
    },
    {
     "data": {
      "image/png": "[encoded data removed]",
      "text/plain": [
       "<Figure size 1879.13x360 with 3 Axes>"
      ]
     },
     "metadata": {
      "needs_background": "light"
     },
     "output_type": "display_data"
    }
   ],
   "source": [
    "sns.catplot('lien_auteur',\n",
    "data=df,\n",
    "kind='count',\n",
    "hue='note_nom_alternatif',\n",
    "col='source')"
   ]
  },
  {
   "cell_type": "code",
   "execution_count": 20,
   "metadata": {},
   "outputs": [
    {
     "name": "stdout",
     "output_type": "stream",
     "text": [
      "<class 'pandas.core.frame.DataFrame'>\n",
      "Int64Index: 29279 entries, 0 to 4999\n",
      "Data columns (total 13 columns):\n",
      " #   Column                Non-Null Count  Dtype \n",
      "---  ------                --------------  ----- \n",
      " 0   id                    29279 non-null  int64 \n",
      " 1   lien_auteur           29279 non-null  object\n",
      " 2   reclamation_examinee  29279 non-null  object\n",
      " 3   date_examination      28861 non-null  object\n",
      " 4   source                29279 non-null  object\n",
      " 5   lien                  29279 non-null  object\n",
      " 6   pub_nom_auteur        16466 non-null  object\n",
      " 7   date_publication      16442 non-null  object\n",
      " 8   contenu               29251 non-null  object\n",
      " 9   extra_lien_reference  25666 non-null  object\n",
      " 10  extra_tags            27981 non-null  object\n",
      " 11  extra_titre           29254 non-null  object\n",
      " 12  note_nom_alternatif   29279 non-null  object\n",
      "dtypes: int64(1), object(12)\n",
      "memory usage: 2.3+ MB\n"
     ]
    }
   ],
   "source": [
    "df.info()\n",
    "df2=df.copy()"
   ]
  },
  {
   "cell_type": "code",
   "execution_count": 21,
   "metadata": {},
   "outputs": [
    {
     "data": {
      "text/plain": [
       "<matplotlib.axes._subplots.AxesSubplot at 0x4fb64af0>"
      ]
     },
     "execution_count": 21,
     "metadata": {},
     "output_type": "execute_result"
    },
    {
     "data": {
      "image/png": "[encoded data removed]",
      "text/plain": [
       "<Figure size 432x288 with 1 Axes>"
      ]
     },
     "metadata": {
      "needs_background": "light"
     },
     "output_type": "display_data"
    }
   ],
   "source": [
    "sns.heatmap(df2.isnull(), cbar=False)"
   ]
  },
  {
   "cell_type": "code",
   "execution_count": 22,
   "metadata": {},
   "outputs": [],
   "source": [
    "del df2[\"extra_lien_reference\"]\n",
    "del df2[\"extra_tags\"]"
   ]
  },
  {
   "cell_type": "code",
   "execution_count": 23,
   "metadata": {},
   "outputs": [
    {
     "data": {
      "text/plain": [
       "<matplotlib.axes._subplots.AxesSubplot at 0x22dc9970>"
      ]
     },
     "execution_count": 23,
     "metadata": {},
     "output_type": "execute_result"
    },
    {
     "data": {
      "image/png": "[encoded data removed]",
      "text/plain": [
       "<Figure size 432x288 with 1 Axes>"
      ]
     },
     "metadata": {
      "needs_background": "light"
     },
     "output_type": "display_data"
    }
   ],
   "source": [
    "sns.heatmap(df2.isnull(), cbar=False)"
   ]
  },
  {
   "cell_type": "code",
   "execution_count": 24,
   "metadata": {},
   "outputs": [],
   "source": [
    "df2['pub_nom_auteur']=df2['pub_nom_auteur'].fillna(\"ANONYME\")"
   ]
  },
  {
   "cell_type": "raw",
   "metadata": {},
   "source": [
    "//////////////// n'est plus utilisé\n",
    "//////////////// calcul de la date moyenne\n",
    "\n",
    "df51=df2.copy()\n",
    "df51=df51.dropna()\n",
    "df51['date_publication'] = pd.to_datetime(df51['date_publication'])\n",
    "\n",
    "tmp = df51.date_publication\n",
    "m = tmp.min()\n",
    "avg_date = (m + (tmp - m).mean()).to_pydatetime()\n",
    "\n",
    "avg_date = pd.to_datetime(avg_date).date()\n",
    "print(avg_date)"
   ]
  },
  {
   "cell_type": "code",
   "execution_count": 25,
   "metadata": {},
   "outputs": [],
   "source": [
    "df2['date_publication'] = df2['date_publication'].fillna(df2[\"date_examination\"])\n",
    "df2['date_publication'] = pd.to_datetime(df2['date_publication'])"
   ]
  },
  {
   "cell_type": "code",
   "execution_count": 26,
   "metadata": {},
   "outputs": [
    {
     "data": {
      "text/plain": [
       "<matplotlib.axes._subplots.AxesSubplot at 0x5008fd30>"
      ]
     },
     "execution_count": 26,
     "metadata": {},
     "output_type": "execute_result"
    },
    {
     "data": {
      "image/png": "[encoded data removed]",
      "text/plain": [
       "<Figure size 432x288 with 1 Axes>"
      ]
     },
     "metadata": {
      "needs_background": "light"
     },
     "output_type": "display_data"
    }
   ],
   "source": [
    "sns.heatmap(df2.isnull(), cbar=False)"
   ]
  },
  {
   "cell_type": "code",
   "execution_count": 27,
   "metadata": {},
   "outputs": [
    {
     "data": {
      "text/html": [
       "<div>\n",
       "<style scoped>\n",
       "    .dataframe tbody tr th:only-of-type {\n",
       "        vertical-align: middle;\n",
       "    }\n",
       "\n",
       "    .dataframe tbody tr th {\n",
       "        vertical-align: top;\n",
       "    }\n",
       "\n",
       "    .dataframe thead th {\n",
       "        text-align: right;\n",
       "    }\n",
       "</style>\n",
       "<table border=\"1\" class=\"dataframe\">\n",
       "  <thead>\n",
       "    <tr style=\"text-align: right;\">\n",
       "      <th></th>\n",
       "      <th>id</th>\n",
       "      <th>lien_auteur</th>\n",
       "      <th>reclamation_examinee</th>\n",
       "      <th>date_examination</th>\n",
       "      <th>source</th>\n",
       "      <th>lien</th>\n",
       "      <th>pub_nom_auteur</th>\n",
       "      <th>date_publication</th>\n",
       "      <th>contenu</th>\n",
       "      <th>extra_titre</th>\n",
       "      <th>note_nom_alternatif</th>\n",
       "    </tr>\n",
       "  </thead>\n",
       "  <tbody>\n",
       "    <tr>\n",
       "      <th>953</th>\n",
       "      <td>7478</td>\n",
       "      <td>politifact</td>\n",
       "      <td>\"\"[W]hen adjusted for cost of living, Georgia ranks first nationally in teacher salary and benefits.\"\"</td>\n",
       "      <td>2019-10-16</td>\n",
       "      <td>politifact</td>\n",
       "      <td>http://www.politifact.com/georgia/statements/2012/feb/22/jan-jones/ga-head-class-teacher-compensation/</td>\n",
       "      <td>Jan Jones</td>\n",
       "      <td>2012-02-06</td>\n",
       "      <td>There’s apparently one major lesson that Georgia teachers should be sharing with their students.You can do better as a public school teacher here than any other state in America, says one influent...</td>\n",
       "      <td>Is Ga. at the head of the class in teacher compensation?</td>\n",
       "      <td>half-true</td>\n",
       "    </tr>\n",
       "  </tbody>\n",
       "</table>\n",
       "</div>"
      ],
      "text/plain": [
       "       id lien_auteur  \\\n",
       "953  7478  politifact   \n",
       "\n",
       "                                                                                       reclamation_examinee  \\\n",
       "953  \"\"[W]hen adjusted for cost of living, Georgia ranks first nationally in teacher salary and benefits.\"\"   \n",
       "\n",
       "    date_examination      source  \\\n",
       "953       2019-10-16  politifact   \n",
       "\n",
       "                                                                                                       lien  \\\n",
       "953  http://www.politifact.com/georgia/statements/2012/feb/22/jan-jones/ga-head-class-teacher-compensation/   \n",
       "\n",
       "    pub_nom_auteur date_publication  \\\n",
       "953      Jan Jones       2012-02-06   \n",
       "\n",
       "                                                                                                                                                                                                     contenu  \\\n",
       "953  There’s apparently one major lesson that Georgia teachers should be sharing with their students.You can do better as a public school teacher here than any other state in America, says one influent...   \n",
       "\n",
       "                                                  extra_titre  \\\n",
       "953  Is Ga. at the head of the class in teacher compensation?   \n",
       "\n",
       "    note_nom_alternatif  \n",
       "953           half-true  "
      ]
     },
     "metadata": {},
     "output_type": "display_data"
    },
    {
     "name": "stdout",
     "output_type": "stream",
     "text": [
      "<class 'pandas.core.frame.DataFrame'>\n",
      "Int64Index: 28850 entries, 0 to 4967\n",
      "Data columns (total 11 columns):\n",
      " #   Column                Non-Null Count  Dtype         \n",
      "---  ------                --------------  -----         \n",
      " 0   id                    28850 non-null  int64         \n",
      " 1   lien_auteur           28850 non-null  object        \n",
      " 2   reclamation_examinee  28850 non-null  object        \n",
      " 3   date_examination      28850 non-null  object        \n",
      " 4   source                28850 non-null  object        \n",
      " 5   lien                  28850 non-null  object        \n",
      " 6   pub_nom_auteur        28850 non-null  object        \n",
      " 7   date_publication      28850 non-null  datetime64[ns]\n",
      " 8   contenu               28850 non-null  object        \n",
      " 9   extra_titre           28850 non-null  object        \n",
      " 10  note_nom_alternatif   28850 non-null  object        \n",
      "dtypes: datetime64[ns](1), int64(1), object(9)\n",
      "memory usage: 1.7+ MB\n"
     ]
    },
    {
     "data": {
      "text/plain": [
       "None"
      ]
     },
     "metadata": {},
     "output_type": "display_data"
    },
    {
     "data": {
      "text/plain": [
       "(28850, 11)"
      ]
     },
     "metadata": {},
     "output_type": "display_data"
    }
   ],
   "source": [
    "df2=df2.dropna()\n",
    "display(df2.sample(1))\n",
    "display(df2.info())\n",
    "display(df2.shape)"
   ]
  },
  {
   "cell_type": "code",
   "execution_count": 28,
   "metadata": {},
   "outputs": [
    {
     "data": {
      "text/plain": [
       "<matplotlib.axes._subplots.AxesSubplot at 0x4fc6dd18>"
      ]
     },
     "execution_count": 28,
     "metadata": {},
     "output_type": "execute_result"
    },
    {
     "data": {
      "image/png": "[encoded data removed]",
      "text/plain": [
       "<Figure size 432x288 with 1 Axes>"
      ]
     },
     "metadata": {
      "needs_background": "light"
     },
     "output_type": "display_data"
    }
   ],
   "source": [
    "sns.heatmap(df2.isnull(), cbar=False)"
   ]
  },
  {
   "cell_type": "markdown",
   "metadata": {},
   "source": [
    "# Plus aucune valeur nulle"
   ]
  },
  {
   "cell_type": "markdown",
   "metadata": {},
   "source": [
    "# On supprime tout ce qui n'a pas comme note false/true/mixture"
   ]
  },
  {
   "cell_type": "code",
   "execution_count": 29,
   "metadata": {},
   "outputs": [],
   "source": [
    "df21 = df2[df2.note_nom_alternatif == 'false']\n",
    "df22 = df2[df2.note_nom_alternatif == 'true']\n",
    "df23 = df2[df2.note_nom_alternatif == 'mixture']\n",
    "\n",
    "df3 = pd.concat([df21, df22])\n",
    "df3 = pd.concat([df3,df23])"
   ]
  },
  {
   "cell_type": "code",
   "execution_count": 30,
   "metadata": {},
   "outputs": [
    {
     "data": {
      "text/plain": [
       "(14426, 11)"
      ]
     },
     "execution_count": 30,
     "metadata": {},
     "output_type": "execute_result"
    }
   ],
   "source": [
    "df3.shape"
   ]
  },
  {
   "cell_type": "code",
   "execution_count": 31,
   "metadata": {},
   "outputs": [
    {
     "data": {
      "text/plain": [
       "<matplotlib.axes._subplots.AxesSubplot at 0x22dd8b20>"
      ]
     },
     "execution_count": 31,
     "metadata": {},
     "output_type": "execute_result"
    },
    {
     "data": {
      "image/png": "[encoded data removed]",
      "text/plain": [
       "<Figure size 432x288 with 1 Axes>"
      ]
     },
     "metadata": {
      "needs_background": "light"
     },
     "output_type": "display_data"
    }
   ],
   "source": [
    "sns.countplot(x='note_nom_alternatif', data=df3)"
   ]
  },
  {
   "cell_type": "code",
   "execution_count": 32,
   "metadata": {},
   "outputs": [
    {
     "data": {
      "text/plain": [
       "<seaborn.axisgrid.FacetGrid at 0x22d9d838>"
      ]
     },
     "execution_count": 32,
     "metadata": {},
     "output_type": "execute_result"
    },
    {
     "data": {
      "image/png": "[encoded data removed]",
      "text/plain": [
       "<Figure size 468.25x360 with 1 Axes>"
      ]
     },
     "metadata": {
      "needs_background": "light"
     },
     "output_type": "display_data"
    }
   ],
   "source": [
    "sns.catplot('source',\n",
    "data=df3,\n",
    "kind='count',\n",
    "hue='note_nom_alternatif')"
   ]
  },
  {
   "cell_type": "code",
   "execution_count": 33,
   "metadata": {},
   "outputs": [],
   "source": [
    "df3[\"source\"] = class_label_encoder.fit_transform(df3[\"source\"])"
   ]
  },
  {
   "cell_type": "code",
   "execution_count": 34,
   "metadata": {},
   "outputs": [
    {
     "data": {
      "text/plain": [
       "<seaborn.axisgrid.FacetGrid at 0x389cb928>"
      ]
     },
     "execution_count": 34,
     "metadata": {},
     "output_type": "execute_result"
    },
    {
     "data": {
      "image/png": "[encoded data removed]",
      "text/plain": [
       "<Figure size 468.25x360 with 1 Axes>"
      ]
     },
     "metadata": {
      "needs_background": "light"
     },
     "output_type": "display_data"
    }
   ],
   "source": [
    "sns.catplot('source',\n",
    "data=df3,\n",
    "kind='count',\n",
    "hue='note_nom_alternatif')"
   ]
  },
  {
   "cell_type": "code",
   "execution_count": 35,
   "metadata": {},
   "outputs": [],
   "source": [
    "del df3[\"lien_auteur\"]\n",
    "del df3[\"id\"]\n",
    "del df3[\"lien\"]"
   ]
  },
  {
   "cell_type": "code",
   "execution_count": 36,
   "metadata": {},
   "outputs": [
    {
     "data": {
      "text/html": [
       "<div>\n",
       "<style scoped>\n",
       "    .dataframe tbody tr th:only-of-type {\n",
       "        vertical-align: middle;\n",
       "    }\n",
       "\n",
       "    .dataframe tbody tr th {\n",
       "        vertical-align: top;\n",
       "    }\n",
       "\n",
       "    .dataframe thead th {\n",
       "        text-align: right;\n",
       "    }\n",
       "</style>\n",
       "<table border=\"1\" class=\"dataframe\">\n",
       "  <thead>\n",
       "    <tr style=\"text-align: right;\">\n",
       "      <th></th>\n",
       "      <th>reclamation_examinee</th>\n",
       "      <th>date_examination</th>\n",
       "      <th>source</th>\n",
       "      <th>pub_nom_auteur</th>\n",
       "      <th>date_publication</th>\n",
       "      <th>contenu</th>\n",
       "      <th>extra_titre</th>\n",
       "      <th>note_nom_alternatif</th>\n",
       "    </tr>\n",
       "  </thead>\n",
       "  <tbody>\n",
       "    <tr>\n",
       "      <th>3236</th>\n",
       "      <td>Photographs show a suspect who was decapitated by a wrought-iron fence while fleeing from police.</td>\n",
       "      <td>2003-03-03</td>\n",
       "      <td>1</td>\n",
       "      <td>ANONYME</td>\n",
       "      <td>2003-03-03</td>\n",
       "      <td>The following item, about a man who was decapitated when he climbed over the railing of an interstate highway while fleeing police and fell onto a wrought-iron fence, describes a real incident tha...</td>\n",
       "      <td>Man Decapitated by Wrought Iron Fence</td>\n",
       "      <td>true</td>\n",
       "    </tr>\n",
       "  </tbody>\n",
       "</table>\n",
       "</div>"
      ],
      "text/plain": [
       "                                                                                   reclamation_examinee  \\\n",
       "3236  Photographs show a suspect who was decapitated by a wrought-iron fence while fleeing from police.   \n",
       "\n",
       "     date_examination  source pub_nom_auteur date_publication  \\\n",
       "3236       2003-03-03       1        ANONYME       2003-03-03   \n",
       "\n",
       "                                                                                                                                                                                                      contenu  \\\n",
       "3236  The following item, about a man who was decapitated when he climbed over the railing of an interstate highway while fleeing police and fell onto a wrought-iron fence, describes a real incident tha...   \n",
       "\n",
       "                                extra_titre note_nom_alternatif  \n",
       "3236  Man Decapitated by Wrought Iron Fence                true  "
      ]
     },
     "metadata": {},
     "output_type": "display_data"
    },
    {
     "data": {
      "text/plain": [
       "(14426, 8)"
      ]
     },
     "execution_count": 36,
     "metadata": {},
     "output_type": "execute_result"
    }
   ],
   "source": [
    "display(df3.sample(1))\n",
    "df3.shape"
   ]
  },
  {
   "cell_type": "code",
   "execution_count": 37,
   "metadata": {},
   "outputs": [],
   "source": [
    "df3.to_csv('../Dataset/claim2.csv',sep=',', index=False)"
   ]
  },
  {
   "cell_type": "markdown",
   "metadata": {},
   "source": [
    "# Sauvegarde 1"
   ]
  },
  {
   "cell_type": "raw",
   "metadata": {},
   "source": [
    "df4 = pd.read_csv('../Dataset/claim2.csv', sep=',', nrows = 5000)\n",
    "print(df4.shape)\n",
    "\n",
    "noms = [\"reclamation_examinee\", \"date_examination\", \"source\", \"pub_nom_auteur\", \"date_publication\", \"contenu\", \"extra_titre\", \"note_nom_alternatif\"]\n",
    "\n",
    "df42 = pd.read_csv('../Dataset/claim2.csv', sep=',', names = noms, skiprows = 5000, nrows = 5000)\n",
    "print(df42.shape)\n",
    "\n",
    "df43 = pd.read_csv('../Dataset/claim2.csv', sep=',', names = noms, skiprows = 10000, nrows = 4420)\n",
    "print(df43.shape)"
   ]
  },
  {
   "cell_type": "raw",
   "metadata": {},
   "source": [
    "df4 = pd.concat([df4, df42])\n",
    "df4 = pd.concat([df4, df43])\n",
    "\n",
    "display(df4.sample(1))\n",
    "print(df4.shape)"
   ]
  },
  {
   "cell_type": "code",
   "execution_count": 38,
   "metadata": {},
   "outputs": [
    {
     "data": {
      "text/html": [
       "<div>\n",
       "<style scoped>\n",
       "    .dataframe tbody tr th:only-of-type {\n",
       "        vertical-align: middle;\n",
       "    }\n",
       "\n",
       "    .dataframe tbody tr th {\n",
       "        vertical-align: top;\n",
       "    }\n",
       "\n",
       "    .dataframe thead th {\n",
       "        text-align: right;\n",
       "    }\n",
       "</style>\n",
       "<table border=\"1\" class=\"dataframe\">\n",
       "  <thead>\n",
       "    <tr style=\"text-align: right;\">\n",
       "      <th></th>\n",
       "      <th>reclamation_examinee</th>\n",
       "      <th>date_examination</th>\n",
       "      <th>source</th>\n",
       "      <th>pub_nom_auteur</th>\n",
       "      <th>date_publication</th>\n",
       "      <th>contenu</th>\n",
       "      <th>extra_titre</th>\n",
       "      <th>note_nom_alternatif</th>\n",
       "    </tr>\n",
       "  </thead>\n",
       "  <tbody>\n",
       "    <tr>\n",
       "      <th>4780</th>\n",
       "      <td>Infamous mother Casey Anthony has died at age 29.</td>\n",
       "      <td>2015-09-22</td>\n",
       "      <td>1</td>\n",
       "      <td>ANONYME</td>\n",
       "      <td>2015-09-22</td>\n",
       "      <td>On 10 September 2015, the Breaking News 13 web site (later replaced by the similar Now8News web site) published an article reporting that Casey Anthony, who was controversially acquitted in 2011 o...</td>\n",
       "      <td>Was Casey Anthony Found Dead at Age 29?</td>\n",
       "      <td>false</td>\n",
       "    </tr>\n",
       "  </tbody>\n",
       "</table>\n",
       "</div>"
      ],
      "text/plain": [
       "                                   reclamation_examinee date_examination  \\\n",
       "4780  Infamous mother Casey Anthony has died at age 29.       2015-09-22   \n",
       "\n",
       "      source pub_nom_auteur date_publication  \\\n",
       "4780       1        ANONYME       2015-09-22   \n",
       "\n",
       "                                                                                                                                                                                                      contenu  \\\n",
       "4780  On 10 September 2015, the Breaking News 13 web site (later replaced by the similar Now8News web site) published an article reporting that Casey Anthony, who was controversially acquitted in 2011 o...   \n",
       "\n",
       "                                  extra_titre note_nom_alternatif  \n",
       "4780  Was Casey Anthony Found Dead at Age 29?               false  "
      ]
     },
     "metadata": {},
     "output_type": "display_data"
    },
    {
     "name": "stdout",
     "output_type": "stream",
     "text": [
      "(14426, 8)\n"
     ]
    }
   ],
   "source": [
    "df4 = df3.copy()\n",
    "display(df4.sample(1))\n",
    "print(df4.shape)"
   ]
  },
  {
   "cell_type": "raw",
   "metadata": {},
   "source": [
    "\n",
    "\n",
    "/////////// On ne s'en sert pas finalement, on a gardé l'année et le mois de la date\n",
    "\n",
    "/////////// fonction pour parser l'annee\n",
    "\n",
    "def parsing_date_y(row) :\n",
    "    try :\n",
    "        return str(row[:4])\n",
    "    except ValueError :\n",
    "        print(\"ALLLLLOOOO\")\n",
    "\n",
    "        \n",
    "df4[\"date_examination_y\"] = df4[\"date_examination\"].apply(parsing_date_y)\n",
    "\n"
   ]
  },
  {
   "cell_type": "raw",
   "metadata": {},
   "source": [
    "/////////// On ne s'en sert pas finalement, on a gardé la date complete\n",
    "\n",
    "/////////// fonction pour parser le mois\n",
    "\n",
    "def parsing_date_m(row) :\n",
    "    try :\n",
    "        return str(row[:7])\n",
    "    except ValueError :\n",
    "        print(\"Erreur de date\")\n",
    "        \n",
    "df4[\"date_examination_m\"] = df4[\"date_examination\"].apply(parsing_date_m)"
   ]
  },
  {
   "cell_type": "code",
   "execution_count": 39,
   "metadata": {},
   "outputs": [],
   "source": [
    "df4[\"note_nom_alternatif\"] = df4[\"note_nom_alternatif\"].apply(toLower)\n",
    "df4[\"date_examination\"] = pd.to_datetime(df4[\"date_examination\"])\n",
    "df4[\"date_publication\"] = pd.to_datetime(df4[\"date_publication\"])"
   ]
  },
  {
   "cell_type": "code",
   "execution_count": 40,
   "metadata": {},
   "outputs": [
    {
     "data": {
      "text/html": [
       "<div>\n",
       "<style scoped>\n",
       "    .dataframe tbody tr th:only-of-type {\n",
       "        vertical-align: middle;\n",
       "    }\n",
       "\n",
       "    .dataframe tbody tr th {\n",
       "        vertical-align: top;\n",
       "    }\n",
       "\n",
       "    .dataframe thead th {\n",
       "        text-align: right;\n",
       "    }\n",
       "</style>\n",
       "<table border=\"1\" class=\"dataframe\">\n",
       "  <thead>\n",
       "    <tr style=\"text-align: right;\">\n",
       "      <th></th>\n",
       "      <th>reclamation_examinee</th>\n",
       "      <th>date_examination</th>\n",
       "      <th>source</th>\n",
       "      <th>pub_nom_auteur</th>\n",
       "      <th>date_publication</th>\n",
       "      <th>contenu</th>\n",
       "      <th>extra_titre</th>\n",
       "      <th>note_nom_alternatif</th>\n",
       "    </tr>\n",
       "  </thead>\n",
       "  <tbody>\n",
       "    <tr>\n",
       "      <th>4549</th>\n",
       "      <td>A sanctuary for dogs is maintained on a \"\"dog island\"\" off the coast of Florida.</td>\n",
       "      <td>2003-03-20</td>\n",
       "      <td>1</td>\n",
       "      <td>ANONYME</td>\n",
       "      <td>2003-03-20</td>\n",
       "      <td>Although a spit of land in the eastern-most part of a chain of barrier islands located off the northern panhandle of Florida is known as Dog Island, it is not operated as a sanctuary where canines...</td>\n",
       "      <td>Is Dog Island Real?</td>\n",
       "      <td>false</td>\n",
       "    </tr>\n",
       "  </tbody>\n",
       "</table>\n",
       "</div>"
      ],
      "text/plain": [
       "                                                                  reclamation_examinee  \\\n",
       "4549  A sanctuary for dogs is maintained on a \"\"dog island\"\" off the coast of Florida.   \n",
       "\n",
       "     date_examination  source pub_nom_auteur date_publication  \\\n",
       "4549       2003-03-20       1        ANONYME       2003-03-20   \n",
       "\n",
       "                                                                                                                                                                                                      contenu  \\\n",
       "4549  Although a spit of land in the eastern-most part of a chain of barrier islands located off the northern panhandle of Florida is known as Dog Island, it is not operated as a sanctuary where canines...   \n",
       "\n",
       "              extra_titre note_nom_alternatif  \n",
       "4549  Is Dog Island Real?               false  "
      ]
     },
     "execution_count": 40,
     "metadata": {},
     "output_type": "execute_result"
    }
   ],
   "source": [
    "df4.sample(1)"
   ]
  },
  {
   "cell_type": "code",
   "execution_count": 41,
   "metadata": {},
   "outputs": [],
   "source": [
    "df5 = df4.copy()\n",
    "df5 = df5[[\"reclamation_examinee\",\"pub_nom_auteur\",\"date_examination\", \"date_publication\", \"source\",\"contenu\",\"note_nom_alternatif\"]]\n",
    "df5.rename(columns={\"reclamation_examinee\": \"fact\", \"date_examination\": \"date_exam\",\"note_nom_alternatif\": \"note\" , \"pub_nom_auteur\" : \"auteur_fact\", \"date_publication\" : \"date_fact\"}, inplace=True)"
   ]
  },
  {
   "cell_type": "code",
   "execution_count": 42,
   "metadata": {},
   "outputs": [
    {
     "data": {
      "text/html": [
       "<div>\n",
       "<style scoped>\n",
       "    .dataframe tbody tr th:only-of-type {\n",
       "        vertical-align: middle;\n",
       "    }\n",
       "\n",
       "    .dataframe tbody tr th {\n",
       "        vertical-align: top;\n",
       "    }\n",
       "\n",
       "    .dataframe thead th {\n",
       "        text-align: right;\n",
       "    }\n",
       "</style>\n",
       "<table border=\"1\" class=\"dataframe\">\n",
       "  <thead>\n",
       "    <tr style=\"text-align: right;\">\n",
       "      <th></th>\n",
       "      <th>fact</th>\n",
       "      <th>auteur_fact</th>\n",
       "      <th>date_exam</th>\n",
       "      <th>date_fact</th>\n",
       "      <th>source</th>\n",
       "      <th>contenu</th>\n",
       "      <th>note</th>\n",
       "    </tr>\n",
       "  </thead>\n",
       "  <tbody>\n",
       "    <tr>\n",
       "      <th>1149</th>\n",
       "      <td>Photographs show a desert memorial constructed to honor the victims of UTA Flight 772.</td>\n",
       "      <td>ANONYME</td>\n",
       "      <td>2015-09-04</td>\n",
       "      <td>2015-09-04</td>\n",
       "      <td>1</td>\n",
       "      <td>Claim:   Photographs show a desert memorial constructed to honor the victims of UTA Flight 772.Claim:Claim:TRUETRUETRUETRUETRUETRUETRUEExample:   [Collected via e-mail, November   2013]Example:Exa...</td>\n",
       "      <td>true</td>\n",
       "    </tr>\n",
       "  </tbody>\n",
       "</table>\n",
       "</div>"
      ],
      "text/plain": [
       "                                                                                        fact  \\\n",
       "1149  Photographs show a desert memorial constructed to honor the victims of UTA Flight 772.   \n",
       "\n",
       "     auteur_fact  date_exam  date_fact  source  \\\n",
       "1149     ANONYME 2015-09-04 2015-09-04       1   \n",
       "\n",
       "                                                                                                                                                                                                      contenu  \\\n",
       "1149  Claim:   Photographs show a desert memorial constructed to honor the victims of UTA Flight 772.Claim:Claim:TRUETRUETRUETRUETRUETRUETRUEExample:   [Collected via e-mail, November   2013]Example:Exa...   \n",
       "\n",
       "      note  \n",
       "1149  true  "
      ]
     },
     "metadata": {},
     "output_type": "display_data"
    },
    {
     "data": {
      "text/plain": [
       "(14426, 7)"
      ]
     },
     "execution_count": 42,
     "metadata": {},
     "output_type": "execute_result"
    }
   ],
   "source": [
    "display(df5.sample(1))\n",
    "df5.shape"
   ]
  },
  {
   "cell_type": "code",
   "execution_count": 43,
   "metadata": {},
   "outputs": [],
   "source": [
    "#transformation des dates et auteur pour les utiliser dans les classifieurs, à voir si utile ou pas\n",
    "df5[\"auteur_fact_num\"] = class_label_encoder.fit_transform(df5[\"auteur_fact\"])\n",
    "\n",
    "df5 = df5[[\"fact\",\"auteur_fact\",\"auteur_fact_num\",\"date_fact\",\"source\",\"date_exam\",\"contenu\",\"note\"]]\n",
    "\n",
    "df5avcDate = df5.copy()\n",
    "df5avcDate[\"date_exam\"] = class_label_encoder.fit_transform(df5avcDate[\"date_exam\"])\n",
    "df5avcDate[\"date_fact\"] = class_label_encoder.fit_transform(df5avcDate[\"date_fact\"])\n",
    "\n",
    "df5sansDate = df5.copy()\n",
    "del df5sansDate[\"date_exam\"]\n",
    "del df5sansDate[\"date_fact\"]"
   ]
  },
  {
   "cell_type": "markdown",
   "metadata": {},
   "source": [
    "# Premier test classifieur"
   ]
  },
  {
   "cell_type": "code",
   "execution_count": 44,
   "metadata": {},
   "outputs": [
    {
     "data": {
      "text/html": [
       "<div>\n",
       "<style scoped>\n",
       "    .dataframe tbody tr th:only-of-type {\n",
       "        vertical-align: middle;\n",
       "    }\n",
       "\n",
       "    .dataframe tbody tr th {\n",
       "        vertical-align: top;\n",
       "    }\n",
       "\n",
       "    .dataframe thead th {\n",
       "        text-align: right;\n",
       "    }\n",
       "</style>\n",
       "<table border=\"1\" class=\"dataframe\">\n",
       "  <thead>\n",
       "    <tr style=\"text-align: right;\">\n",
       "      <th></th>\n",
       "      <th>fact</th>\n",
       "      <th>auteur_fact</th>\n",
       "      <th>auteur_fact_num</th>\n",
       "      <th>source</th>\n",
       "      <th>contenu</th>\n",
       "      <th>note</th>\n",
       "    </tr>\n",
       "  </thead>\n",
       "  <tbody>\n",
       "    <tr>\n",
       "      <th>3029</th>\n",
       "      <td>The National Rifle Association was formed for the express purpose of driving out the Ku Klux Klan and helping freed slaves defend themselves against racist attacks.</td>\n",
       "      <td>ANONYME</td>\n",
       "      <td>7</td>\n",
       "      <td>1</td>\n",
       "      <td>Since its inception as a group dedicated to providing marksmanship training in 1871, the National Rifle Association has grown into a powerful lobbying organization with a single overriding purpose...</td>\n",
       "      <td>false</td>\n",
       "    </tr>\n",
       "  </tbody>\n",
       "</table>\n",
       "</div>"
      ],
      "text/plain": [
       "                                                                                                                                                                      fact  \\\n",
       "3029  The National Rifle Association was formed for the express purpose of driving out the Ku Klux Klan and helping freed slaves defend themselves against racist attacks.   \n",
       "\n",
       "     auteur_fact  auteur_fact_num  source  \\\n",
       "3029     ANONYME                7       1   \n",
       "\n",
       "                                                                                                                                                                                                      contenu  \\\n",
       "3029  Since its inception as a group dedicated to providing marksmanship training in 1871, the National Rifle Association has grown into a powerful lobbying organization with a single overriding purpose...   \n",
       "\n",
       "       note  \n",
       "3029  false  "
      ]
     },
     "metadata": {},
     "output_type": "display_data"
    },
    {
     "data": {
      "text/html": [
       "<div>\n",
       "<style scoped>\n",
       "    .dataframe tbody tr th:only-of-type {\n",
       "        vertical-align: middle;\n",
       "    }\n",
       "\n",
       "    .dataframe tbody tr th {\n",
       "        vertical-align: top;\n",
       "    }\n",
       "\n",
       "    .dataframe thead th {\n",
       "        text-align: right;\n",
       "    }\n",
       "</style>\n",
       "<table border=\"1\" class=\"dataframe\">\n",
       "  <thead>\n",
       "    <tr style=\"text-align: right;\">\n",
       "      <th></th>\n",
       "      <th>fact</th>\n",
       "      <th>auteur_fact</th>\n",
       "      <th>auteur_fact_num</th>\n",
       "      <th>date_fact</th>\n",
       "      <th>source</th>\n",
       "      <th>date_exam</th>\n",
       "      <th>contenu</th>\n",
       "      <th>note</th>\n",
       "    </tr>\n",
       "  </thead>\n",
       "  <tbody>\n",
       "    <tr>\n",
       "      <th>48</th>\n",
       "      <td>\"\"Covfefe\"\" means something, anything.</td>\n",
       "      <td>ANONYME</td>\n",
       "      <td>7</td>\n",
       "      <td>3751</td>\n",
       "      <td>1</td>\n",
       "      <td>3402</td>\n",
       "      <td>On 31 May 2017 President Trump send a late-night tweet that began with a complaint about his press coverage and ended with the non-word “covfefe,” baffling many. While “covfefe” jokes proliferated...</td>\n",
       "      <td>false</td>\n",
       "    </tr>\n",
       "  </tbody>\n",
       "</table>\n",
       "</div>"
      ],
      "text/plain": [
       "                                      fact auteur_fact  auteur_fact_num  \\\n",
       "48  \"\"Covfefe\"\" means something, anything.     ANONYME                7   \n",
       "\n",
       "    date_fact  source  date_exam  \\\n",
       "48       3751       1       3402   \n",
       "\n",
       "                                                                                                                                                                                                    contenu  \\\n",
       "48  On 31 May 2017 President Trump send a late-night tweet that began with a complaint about his press coverage and ended with the non-word “covfefe,” baffling many. While “covfefe” jokes proliferated...   \n",
       "\n",
       "     note  \n",
       "48  false  "
      ]
     },
     "metadata": {},
     "output_type": "display_data"
    }
   ],
   "source": [
    "arraySD = df5sansDate.values\n",
    "display(df5sansDate.sample(1))\n",
    "\n",
    "\n",
    "arrayAD = df5avcDate.values\n",
    "display(df5avcDate.sample(1))"
   ]
  },
  {
   "cell_type": "code",
   "execution_count": 45,
   "metadata": {},
   "outputs": [],
   "source": [
    "# commenter/decommenter pour faire avec ou sans date\n",
    "\n",
    "X = arraySD[:,[2,3]]\n",
    "y = arraySD[:,5]\n",
    "\n",
    "#X = arrayAD[:,2:5]\n",
    "#y = arrayAD[:,7]\n",
    "\n",
    "\n",
    "\n",
    "validation_size=0.3 #30% du jeu de données pour le test\n",
    "testsize= 1-validation_size\n",
    "seed=30\n",
    "X_train, X_test, y_train, y_test = train_test_split(X, y,\n",
    "train_size=validation_size,\n",
    "random_state=seed,test_size=testsize)"
   ]
  },
  {
   "cell_type": "code",
   "execution_count": 46,
   "metadata": {
    "scrolled": true
   },
   "outputs": [
    {
     "name": "stdout",
     "output_type": "stream",
     "text": [
      "\n",
      " accuracy : 0.2668581047628478 \n",
      "\n"
     ]
    }
   ],
   "source": [
    "clf = GaussianNB()\n",
    "clf.fit(X_train, y_train)\n",
    "result = clf.predict(X_test)\n",
    "print('\\n accuracy :',\n",
    "accuracy_score(result, y_test),'\\n')"
   ]
  },
  {
   "cell_type": "code",
   "execution_count": 47,
   "metadata": {},
   "outputs": [
    {
     "name": "stdout",
     "output_type": "stream",
     "text": [
      "KNN: 0.553260 (0.397201)\n",
      "DTC: 0.557067 (0.404499)\n",
      "NB: 0.046661 (0.056453)\n",
      "SVM: 0.514092 (0.419945)\n",
      "RFO: 0.553741 (0.403935)\n"
     ]
    }
   ],
   "source": [
    "seed = 7\n",
    "scoring = 'accuracy'\n",
    "models = []\n",
    "models.append(('KNN', KNeighborsClassifier()))\n",
    "models.append(('DTC', DecisionTreeClassifier()))\n",
    "models.append(('NB', GaussianNB()))\n",
    "models.append(('SVM', SVC(gamma='auto')))\n",
    "models.append(('RFO', RandomForestClassifier()))\n",
    "\n",
    "\n",
    "\n",
    "results = []\n",
    "names = []\n",
    "for name,model in models:\n",
    "    kfold = KFold(n_splits=10, random_state=seed)\n",
    "    cv_results = cross_val_score(model, X,y, cv=kfold, scoring=scoring)\n",
    "    results.append(cv_results)\n",
    "    names.append(name)\n",
    "    msg = \"%s: %f (%f)\" % (name, cv_results.mean(),cv_results.std())\n",
    "    print(msg)"
   ]
  },
  {
   "cell_type": "code",
   "execution_count": 48,
   "metadata": {},
   "outputs": [
    {
     "data": {
      "text/plain": [
       "[Text(0, 0, 'KNN'),\n",
       " Text(0, 0, 'DTC'),\n",
       " Text(0, 0, 'NB'),\n",
       " Text(0, 0, 'SVM'),\n",
       " Text(0, 0, 'RFO')]"
      ]
     },
     "execution_count": 48,
     "metadata": {},
     "output_type": "execute_result"
    },
    {
     "data": {
      "image/png": "[encoded data removed]",
      "text/plain": [
       "<Figure size 432x288 with 1 Axes>"
      ]
     },
     "metadata": {
      "needs_background": "light"
     },
     "output_type": "display_data"
    }
   ],
   "source": [
    "fig = plt.figure()\n",
    "fig.suptitle('Comparaison des algorithmes')\n",
    "ax = fig.add_subplot(111)\n",
    "plt.boxplot(results)\n",
    "ax.set_xticklabels(names)"
   ]
  },
  {
   "cell_type": "markdown",
   "metadata": {},
   "source": [
    "# Découpage du fact en phrases ou mots (+suppr des non-alphanum)"
   ]
  },
  {
   "cell_type": "code",
   "execution_count": 49,
   "metadata": {},
   "outputs": [
    {
     "data": {
      "text/html": [
       "<div>\n",
       "<style scoped>\n",
       "    .dataframe tbody tr th:only-of-type {\n",
       "        vertical-align: middle;\n",
       "    }\n",
       "\n",
       "    .dataframe tbody tr th {\n",
       "        vertical-align: top;\n",
       "    }\n",
       "\n",
       "    .dataframe thead th {\n",
       "        text-align: right;\n",
       "    }\n",
       "</style>\n",
       "<table border=\"1\" class=\"dataframe\">\n",
       "  <thead>\n",
       "    <tr style=\"text-align: right;\">\n",
       "      <th></th>\n",
       "      <th>fact</th>\n",
       "      <th>auteur_fact</th>\n",
       "      <th>auteur_fact_num</th>\n",
       "      <th>date_fact</th>\n",
       "      <th>source</th>\n",
       "      <th>date_exam</th>\n",
       "      <th>contenu</th>\n",
       "      <th>note</th>\n",
       "    </tr>\n",
       "  </thead>\n",
       "  <tbody>\n",
       "    <tr>\n",
       "      <th>746</th>\n",
       "      <td>As secretary of the Department of Energy under former President Bill Clinton, \"\"I created reserves of home heating oil.\"\"</td>\n",
       "      <td>Bill Richardson</td>\n",
       "      <td>186</td>\n",
       "      <td>2008-01-05</td>\n",
       "      <td>0</td>\n",
       "      <td>2019-10-13</td>\n",
       "      <td>With oil prices setting record highs and hovering around $100 a barrel, most candidates talked during a Jan. 5, 2008, debate about what they would do to bring prices down. New Mexico Gov. Bill Ric...</td>\n",
       "      <td>true</td>\n",
       "    </tr>\n",
       "  </tbody>\n",
       "</table>\n",
       "</div>"
      ],
      "text/plain": [
       "                                                                                                                          fact  \\\n",
       "746  As secretary of the Department of Energy under former President Bill Clinton, \"\"I created reserves of home heating oil.\"\"   \n",
       "\n",
       "         auteur_fact  auteur_fact_num  date_fact  source  date_exam  \\\n",
       "746  Bill Richardson              186 2008-01-05       0 2019-10-13   \n",
       "\n",
       "                                                                                                                                                                                                     contenu  \\\n",
       "746  With oil prices setting record highs and hovering around $100 a barrel, most candidates talked during a Jan. 5, 2008, debate about what they would do to bring prices down. New Mexico Gov. Bill Ric...   \n",
       "\n",
       "     note  \n",
       "746  true  "
      ]
     },
     "execution_count": 49,
     "metadata": {},
     "output_type": "execute_result"
    }
   ],
   "source": [
    "df5.sample(1)"
   ]
  },
  {
   "cell_type": "code",
   "execution_count": 50,
   "metadata": {},
   "outputs": [],
   "source": [
    "pattern = re.compile('[\\W_]+')\n",
    "\n",
    "\n",
    "stop_words =[\"president\",\"claim\",'i','me','my','myself','we','our','ours','ourselves','you','your','yours','yourself',\n",
    "            'yourselves','he','him','his','himself','she','her','hers','herself','it','its','itself',\n",
    "            'they','them','their','theirs','themselves','what','which','who','whom','this','that',\n",
    "            'these','those','am','is','are','was','were','be','been','being','have','has','had',\n",
    "            'having','do','does','did','doing','a','an','the','and','but','if','or','because','as',\n",
    "            'until','while','of','at','by','for','with','about','against','between','into','through',\n",
    "            'during','before','after','above','below','to','from','up','down','in','out','on','off',\n",
    "            'over','under','again','further','then','once','here','there','when','where','why','how',\n",
    "            'all','any','both','each','few','more','most','other','some','such','no','nor','not',\n",
    "            'only','own','same','so','than','too','very','s','t','can','will','just','don','should',\n",
    "            'now','uses','use','using','used','one','also',' ','',',','.','!','?',':','\\'','\\\"','\\\"\\\"','\\'\\'','  ','\\t','\\s']\n",
    "\n",
    "\n",
    "def que_alphanum(mot):\n",
    "    return pattern.sub('', mot)\n",
    "\n",
    "\n",
    "def toMots(row) :\n",
    "    sans_contract = contractions.fix(row)\n",
    "    tokens = word_tokenize(sans_contract)\n",
    "    words = [que_alphanum(word) for word in tokens if word not in stop_words]\n",
    "    return words\n",
    "\n"
   ]
  },
  {
   "cell_type": "code",
   "execution_count": 51,
   "metadata": {},
   "outputs": [
    {
     "data": {
      "text/html": [
       "<div>\n",
       "<style scoped>\n",
       "    .dataframe tbody tr th:only-of-type {\n",
       "        vertical-align: middle;\n",
       "    }\n",
       "\n",
       "    .dataframe tbody tr th {\n",
       "        vertical-align: top;\n",
       "    }\n",
       "\n",
       "    .dataframe thead th {\n",
       "        text-align: right;\n",
       "    }\n",
       "</style>\n",
       "<table border=\"1\" class=\"dataframe\">\n",
       "  <thead>\n",
       "    <tr style=\"text-align: right;\">\n",
       "      <th></th>\n",
       "      <th>fact</th>\n",
       "      <th>auteur_fact</th>\n",
       "      <th>auteur_fact_num</th>\n",
       "      <th>date_fact</th>\n",
       "      <th>source</th>\n",
       "      <th>date_exam</th>\n",
       "      <th>contenu</th>\n",
       "      <th>note</th>\n",
       "      <th>fact_mots</th>\n",
       "    </tr>\n",
       "  </thead>\n",
       "  <tbody>\n",
       "    <tr>\n",
       "      <th>4607</th>\n",
       "      <td>A photograph shows three buildings in New York decorated with window crosses for Easter in 1956.</td>\n",
       "      <td>ANONYME</td>\n",
       "      <td>7</td>\n",
       "      <td>2015-11-21</td>\n",
       "      <td>1</td>\n",
       "      <td>2015-11-21</td>\n",
       "      <td>Example: [Collected via Facebook, November 2015]Example:[Collected via Facebook, November 2015]Collected via Facebook, November 2015The above-displayed image of buildings in the New York skyline i...</td>\n",
       "      <td>true</td>\n",
       "      <td>[A, photograph, shows, three, buildings, New, York, decorated, window, crosses, Easter, 1956]</td>\n",
       "    </tr>\n",
       "  </tbody>\n",
       "</table>\n",
       "</div>"
      ],
      "text/plain": [
       "                                                                                                  fact  \\\n",
       "4607  A photograph shows three buildings in New York decorated with window crosses for Easter in 1956.   \n",
       "\n",
       "     auteur_fact  auteur_fact_num  date_fact  source  date_exam  \\\n",
       "4607     ANONYME                7 2015-11-21       1 2015-11-21   \n",
       "\n",
       "                                                                                                                                                                                                      contenu  \\\n",
       "4607  Example: [Collected via Facebook, November 2015]Example:[Collected via Facebook, November 2015]Collected via Facebook, November 2015The above-displayed image of buildings in the New York skyline i...   \n",
       "\n",
       "      note  \\\n",
       "4607  true   \n",
       "\n",
       "                                                                                          fact_mots  \n",
       "4607  [A, photograph, shows, three, buildings, New, York, decorated, window, crosses, Easter, 1956]  "
      ]
     },
     "execution_count": 51,
     "metadata": {},
     "output_type": "execute_result"
    }
   ],
   "source": [
    "df5[\"fact_mots\"] = df5[\"fact\"].apply(toMots)\n",
    "df5.sample(1)"
   ]
  },
  {
   "cell_type": "code",
   "execution_count": 52,
   "metadata": {
    "scrolled": true
   },
   "outputs": [],
   "source": [
    "df5.to_csv('../Dataset/claim3.csv',sep=',', index=False)"
   ]
  },
  {
   "cell_type": "markdown",
   "metadata": {},
   "source": [
    "# Sauvegarde 2"
   ]
  },
  {
   "cell_type": "raw",
   "metadata": {},
   "source": [
    "df6 = pd.read_csv('../Dataset/claim3.csv', sep=',', nrows = 5000)\n",
    "print(df6.shape)\n",
    "\n",
    "noms = [\"fact\", \"auteur_fact\",\"auteur_fact_num\", \"date_fact\", \"source\", \"date_exam\", \"contenu\", \"note\",\"fact_mots\"]\n",
    "\n",
    "df62 = pd.read_csv('../Dataset/claim3.csv', sep=',', names = noms, skiprows = 5000, nrows = 5000)\n",
    "print(df62.shape)\n",
    "\n",
    "df63 = pd.read_csv('../Dataset/claim3.csv', sep=',', names = noms, skiprows = 10000, nrows = 4420)\n",
    "print(df63.shape)"
   ]
  },
  {
   "cell_type": "raw",
   "metadata": {},
   "source": [
    "df6 = pd.concat([df6, df62])\n",
    "df6 = pd.concat([df6, df63])\n",
    "\n",
    "display(df6.sample(1))\n",
    "print(df6.shape)"
   ]
  },
  {
   "cell_type": "code",
   "execution_count": 53,
   "metadata": {},
   "outputs": [
    {
     "data": {
      "text/html": [
       "<div>\n",
       "<style scoped>\n",
       "    .dataframe tbody tr th:only-of-type {\n",
       "        vertical-align: middle;\n",
       "    }\n",
       "\n",
       "    .dataframe tbody tr th {\n",
       "        vertical-align: top;\n",
       "    }\n",
       "\n",
       "    .dataframe thead th {\n",
       "        text-align: right;\n",
       "    }\n",
       "</style>\n",
       "<table border=\"1\" class=\"dataframe\">\n",
       "  <thead>\n",
       "    <tr style=\"text-align: right;\">\n",
       "      <th></th>\n",
       "      <th>fact</th>\n",
       "      <th>auteur_fact</th>\n",
       "      <th>auteur_fact_num</th>\n",
       "      <th>date_fact</th>\n",
       "      <th>source</th>\n",
       "      <th>date_exam</th>\n",
       "      <th>contenu</th>\n",
       "      <th>note</th>\n",
       "      <th>fact_mots</th>\n",
       "    </tr>\n",
       "  </thead>\n",
       "  <tbody>\n",
       "    <tr>\n",
       "      <th>4428</th>\n",
       "      <td>Commentator Andy Rooney said God asked him to “tell your viewers that both Pat Robertson and Mel Gibson strike me as wackos.”</td>\n",
       "      <td>ANONYME</td>\n",
       "      <td>7</td>\n",
       "      <td>2011-11-05</td>\n",
       "      <td>1</td>\n",
       "      <td>2011-11-05</td>\n",
       "      <td>Claim:   Commentator Andy Rooney said God asked him to “tell your viewers that both Pat Robertson and Mel Gibson strike me as wackos.” Claim:Claim:Status:   True.Status:   True.Status:Status:True....</td>\n",
       "      <td>true</td>\n",
       "      <td>[Commentator, Andy, Rooney, said, God, asked, , tell, viewers, Pat, Robertson, Mel, Gibson, strike, wackos, ]</td>\n",
       "    </tr>\n",
       "  </tbody>\n",
       "</table>\n",
       "</div>"
      ],
      "text/plain": [
       "                                                                                                                               fact  \\\n",
       "4428  Commentator Andy Rooney said God asked him to “tell your viewers that both Pat Robertson and Mel Gibson strike me as wackos.”   \n",
       "\n",
       "     auteur_fact  auteur_fact_num  date_fact  source  date_exam  \\\n",
       "4428     ANONYME                7 2011-11-05       1 2011-11-05   \n",
       "\n",
       "                                                                                                                                                                                                      contenu  \\\n",
       "4428  Claim:   Commentator Andy Rooney said God asked him to “tell your viewers that both Pat Robertson and Mel Gibson strike me as wackos.” Claim:Claim:Status:   True.Status:   True.Status:Status:True....   \n",
       "\n",
       "      note  \\\n",
       "4428  true   \n",
       "\n",
       "                                                                                                          fact_mots  \n",
       "4428  [Commentator, Andy, Rooney, said, God, asked, , tell, viewers, Pat, Robertson, Mel, Gibson, strike, wackos, ]  "
      ]
     },
     "metadata": {},
     "output_type": "display_data"
    },
    {
     "name": "stdout",
     "output_type": "stream",
     "text": [
      "(14426, 9)\n"
     ]
    }
   ],
   "source": [
    "df6 = df5.copy()\n",
    "display(df6.sample(1))\n",
    "print(df6.shape)"
   ]
  },
  {
   "cell_type": "code",
   "execution_count": 54,
   "metadata": {},
   "outputs": [],
   "source": [
    "\n",
    "wordnet_lemmatizer = WordNetLemmatizer()\n",
    "\n",
    "def toMotLem(row) :\n",
    "    listPhrase = []\n",
    "    sans_contract = contractions.fix(row)\n",
    "    phrases = sent_tokenize(sans_contract)\n",
    "    tokens = [word_tokenize(phr) for phr in phrases]\n",
    "    for token in tokens :\n",
    "        for word in token :\n",
    "            if (word not in stop_words) :\n",
    "                listPhrase.append(que_alphanum(word))\n",
    "    listLem = [wordnet_lemmatizer.lemmatize(listmot,pos='v') for listmot in listPhrase]\n",
    "    return listLem"
   ]
  },
  {
   "cell_type": "code",
   "execution_count": 55,
   "metadata": {},
   "outputs": [],
   "source": [
    "df6[\"fact_LEM\"] = df6[\"fact\"].apply(toMotLem)"
   ]
  },
  {
   "cell_type": "code",
   "execution_count": 56,
   "metadata": {},
   "outputs": [],
   "source": [
    "# un peu long\n",
    "# traitement de tous le contenu de tous les articles\n",
    "\n",
    "df6[\"contenu\"] = df6[\"contenu\"].apply(toMotLem)"
   ]
  },
  {
   "cell_type": "code",
   "execution_count": 57,
   "metadata": {},
   "outputs": [
    {
     "data": {
      "text/html": [
       "<div>\n",
       "<style scoped>\n",
       "    .dataframe tbody tr th:only-of-type {\n",
       "        vertical-align: middle;\n",
       "    }\n",
       "\n",
       "    .dataframe tbody tr th {\n",
       "        vertical-align: top;\n",
       "    }\n",
       "\n",
       "    .dataframe thead th {\n",
       "        text-align: right;\n",
       "    }\n",
       "</style>\n",
       "<table border=\"1\" class=\"dataframe\">\n",
       "  <thead>\n",
       "    <tr style=\"text-align: right;\">\n",
       "      <th></th>\n",
       "      <th>fact</th>\n",
       "      <th>auteur_fact</th>\n",
       "      <th>auteur_fact_num</th>\n",
       "      <th>date_fact</th>\n",
       "      <th>source</th>\n",
       "      <th>date_exam</th>\n",
       "      <th>contenu</th>\n",
       "      <th>note</th>\n",
       "      <th>fact_mots</th>\n",
       "      <th>fact_LEM</th>\n",
       "    </tr>\n",
       "  </thead>\n",
       "  <tbody>\n",
       "    <tr>\n",
       "      <th>2274</th>\n",
       "      <td>Forwarding a certain e-mail to a specified number of your friends will cause a cool video to spring to life on your monitor or win cash for you.</td>\n",
       "      <td>ANONYME</td>\n",
       "      <td>7</td>\n",
       "      <td>2006-11-03</td>\n",
       "      <td>1</td>\n",
       "      <td>2006-11-03</td>\n",
       "      <td>[Claim, Forwarding, certain, email, specify, number, friends, cool, video, spring, life, monitor, win, cash, Claim, Claim, Status, FalseStatus, FalseStatus, Status, FalseFalseFalseExamples, Exampl...</td>\n",
       "      <td>false</td>\n",
       "      <td>[Forwarding, certain, email, specified, number, friends, cool, video, spring, life, monitor, win, cash]</td>\n",
       "      <td>[Forwarding, certain, email, specify, number, friends, cool, video, spring, life, monitor, win, cash]</td>\n",
       "    </tr>\n",
       "  </tbody>\n",
       "</table>\n",
       "</div>"
      ],
      "text/plain": [
       "                                                                                                                                                  fact  \\\n",
       "2274  Forwarding a certain e-mail to a specified number of your friends will cause a cool video to spring to life on your monitor or win cash for you.   \n",
       "\n",
       "     auteur_fact  auteur_fact_num  date_fact  source  date_exam  \\\n",
       "2274     ANONYME                7 2006-11-03       1 2006-11-03   \n",
       "\n",
       "                                                                                                                                                                                                      contenu  \\\n",
       "2274  [Claim, Forwarding, certain, email, specify, number, friends, cool, video, spring, life, monitor, win, cash, Claim, Claim, Status, FalseStatus, FalseStatus, Status, FalseFalseFalseExamples, Exampl...   \n",
       "\n",
       "       note  \\\n",
       "2274  false   \n",
       "\n",
       "                                                                                                    fact_mots  \\\n",
       "2274  [Forwarding, certain, email, specified, number, friends, cool, video, spring, life, monitor, win, cash]   \n",
       "\n",
       "                                                                                                   fact_LEM  \n",
       "2274  [Forwarding, certain, email, specify, number, friends, cool, video, spring, life, monitor, win, cash]  "
      ]
     },
     "execution_count": 57,
     "metadata": {},
     "output_type": "execute_result"
    }
   ],
   "source": [
    "df6.sample(1)"
   ]
  },
  {
   "cell_type": "code",
   "execution_count": 58,
   "metadata": {},
   "outputs": [],
   "source": [
    "del df6[\"fact_mots\"]\n",
    "#del df6[\"fact\"]"
   ]
  },
  {
   "cell_type": "code",
   "execution_count": 59,
   "metadata": {},
   "outputs": [],
   "source": [
    "df6.to_csv('../Dataset/claim4.csv',sep=',', index=False)"
   ]
  },
  {
   "cell_type": "markdown",
   "metadata": {},
   "source": [
    "# Sauvegarde 3"
   ]
  },
  {
   "cell_type": "code",
   "execution_count": 60,
   "metadata": {},
   "outputs": [
    {
     "name": "stdout",
     "output_type": "stream",
     "text": [
      "(5000, 9)\n",
      "(5000, 9)\n",
      "(4420, 9)\n"
     ]
    }
   ],
   "source": [
    "df7 = pd.read_csv('../Dataset/claim4.csv', sep=',', nrows = 5000)\n",
    "print(df7.shape)\n",
    "\n",
    "noms = [\"fact\", \"auteur_fact\",\"auteur_fact_num\", \"date_fact\", \"source\", \"date_exam\", \"contenu\", \"note\",\"fact_LEM\"]\n",
    "\n",
    "df72 = pd.read_csv('../Dataset/claim4.csv', sep=',', names = noms, skiprows = 5000, nrows = 5000)\n",
    "print(df72.shape)\n",
    "\n",
    "df73 = pd.read_csv('../Dataset/claim4.csv', sep=',', names = noms, skiprows = 10000, nrows = 4420)\n",
    "print(df73.shape)"
   ]
  },
  {
   "cell_type": "code",
   "execution_count": 61,
   "metadata": {},
   "outputs": [
    {
     "data": {
      "text/html": [
       "<div>\n",
       "<style scoped>\n",
       "    .dataframe tbody tr th:only-of-type {\n",
       "        vertical-align: middle;\n",
       "    }\n",
       "\n",
       "    .dataframe tbody tr th {\n",
       "        vertical-align: top;\n",
       "    }\n",
       "\n",
       "    .dataframe thead th {\n",
       "        text-align: right;\n",
       "    }\n",
       "</style>\n",
       "<table border=\"1\" class=\"dataframe\">\n",
       "  <thead>\n",
       "    <tr style=\"text-align: right;\">\n",
       "      <th></th>\n",
       "      <th>fact</th>\n",
       "      <th>auteur_fact</th>\n",
       "      <th>auteur_fact_num</th>\n",
       "      <th>date_fact</th>\n",
       "      <th>source</th>\n",
       "      <th>date_exam</th>\n",
       "      <th>contenu</th>\n",
       "      <th>note</th>\n",
       "      <th>fact_LEM</th>\n",
       "    </tr>\n",
       "  </thead>\n",
       "  <tbody>\n",
       "    <tr>\n",
       "      <th>1454</th>\n",
       "      <td>Says Donald Trump's foundation \"\"took money other people gave to his charity and then bought a six-foot-tall painting of himself.\"\"</td>\n",
       "      <td>Barack Obama</td>\n",
       "      <td>134</td>\n",
       "      <td>2016-09-13</td>\n",
       "      <td>0</td>\n",
       "      <td>2016-09-13</td>\n",
       "      <td>['President', 'Barack', 'Obama', 'go', 'Philadelphia', 'Sept', '13', 'campaign', 'Hillary', 'Clinton', 'recover', 'pneumonia', 'In', 'speech', 'Obama', 'hold', 'back', 'critique', 'Clinton', '', '...</td>\n",
       "      <td>true</td>\n",
       "      <td>['Says', 'Donald', 'Trumps', 'foundation', '', 'take', 'money', 'people', 'give', 'charity', 'buy', 'sixfoottall', 'paint']</td>\n",
       "    </tr>\n",
       "  </tbody>\n",
       "</table>\n",
       "</div>"
      ],
      "text/plain": [
       "                                                                                                                                     fact  \\\n",
       "1454  Says Donald Trump's foundation \"\"took money other people gave to his charity and then bought a six-foot-tall painting of himself.\"\"   \n",
       "\n",
       "       auteur_fact  auteur_fact_num   date_fact  source   date_exam  \\\n",
       "1454  Barack Obama              134  2016-09-13       0  2016-09-13   \n",
       "\n",
       "                                                                                                                                                                                                      contenu  \\\n",
       "1454  ['President', 'Barack', 'Obama', 'go', 'Philadelphia', 'Sept', '13', 'campaign', 'Hillary', 'Clinton', 'recover', 'pneumonia', 'In', 'speech', 'Obama', 'hold', 'back', 'critique', 'Clinton', '', '...   \n",
       "\n",
       "      note  \\\n",
       "1454  true   \n",
       "\n",
       "                                                                                                                         fact_LEM  \n",
       "1454  ['Says', 'Donald', 'Trumps', 'foundation', '', 'take', 'money', 'people', 'give', 'charity', 'buy', 'sixfoottall', 'paint']  "
      ]
     },
     "metadata": {},
     "output_type": "display_data"
    },
    {
     "name": "stdout",
     "output_type": "stream",
     "text": [
      "(14420, 9)\n"
     ]
    }
   ],
   "source": [
    "df7 = pd.concat([df7, df72])\n",
    "df7 = pd.concat([df7, df73])\n",
    "\n",
    "display(df7.sample(1))\n",
    "print(df7.shape)"
   ]
  },
  {
   "cell_type": "code",
   "execution_count": 62,
   "metadata": {},
   "outputs": [
    {
     "data": {
      "text/html": [
       "<div>\n",
       "<style scoped>\n",
       "    .dataframe tbody tr th:only-of-type {\n",
       "        vertical-align: middle;\n",
       "    }\n",
       "\n",
       "    .dataframe tbody tr th {\n",
       "        vertical-align: top;\n",
       "    }\n",
       "\n",
       "    .dataframe thead th {\n",
       "        text-align: right;\n",
       "    }\n",
       "</style>\n",
       "<table border=\"1\" class=\"dataframe\">\n",
       "  <thead>\n",
       "    <tr style=\"text-align: right;\">\n",
       "      <th></th>\n",
       "      <th>fact</th>\n",
       "      <th>fact_LEM</th>\n",
       "      <th>note</th>\n",
       "      <th>auteur_fact</th>\n",
       "      <th>auteur_fact_num</th>\n",
       "      <th>date_fact</th>\n",
       "      <th>source</th>\n",
       "      <th>date_exam</th>\n",
       "      <th>contenu</th>\n",
       "    </tr>\n",
       "  </thead>\n",
       "  <tbody>\n",
       "    <tr>\n",
       "      <th>750</th>\n",
       "      <td>Photograph shows sunrise through the World Trade Center towers.</td>\n",
       "      <td>['Photograph', 'show', 'sunrise', 'World', 'Trade', 'Center', 'tower']</td>\n",
       "      <td>true</td>\n",
       "      <td>ANONYME</td>\n",
       "      <td>7</td>\n",
       "      <td>2002-03-29</td>\n",
       "      <td>1</td>\n",
       "      <td>2002-03-29</td>\n",
       "      <td>['Claim', 'Photograph', 'show', 'sunrise', 'World', 'Trade', 'Center', 'towersClaim', 'Claim', 'Status', 'TrueStatus', 'TrueStatus', 'Status', 'TrueTrueTrueExample', '', 'Collected', 'Internet', '...</td>\n",
       "    </tr>\n",
       "  </tbody>\n",
       "</table>\n",
       "</div>"
      ],
      "text/plain": [
       "                                                                fact  \\\n",
       "750  Photograph shows sunrise through the World Trade Center towers.   \n",
       "\n",
       "                                                                   fact_LEM  \\\n",
       "750  ['Photograph', 'show', 'sunrise', 'World', 'Trade', 'Center', 'tower']   \n",
       "\n",
       "     note auteur_fact  auteur_fact_num   date_fact  source   date_exam  \\\n",
       "750  true     ANONYME                7  2002-03-29       1  2002-03-29   \n",
       "\n",
       "                                                                                                                                                                                                     contenu  \n",
       "750  ['Claim', 'Photograph', 'show', 'sunrise', 'World', 'Trade', 'Center', 'towersClaim', 'Claim', 'Status', 'TrueStatus', 'TrueStatus', 'Status', 'TrueTrueTrueExample', '', 'Collected', 'Internet', '...  "
      ]
     },
     "execution_count": 62,
     "metadata": {},
     "output_type": "execute_result"
    }
   ],
   "source": [
    "df7 = df7[[\"fact\",\"fact_LEM\",\"note\",\"auteur_fact\",\"auteur_fact_num\",\"date_fact\",\"source\",\"date_exam\",\"contenu\"]]\n",
    "df7.sample(1)"
   ]
  },
  {
   "cell_type": "code",
   "execution_count": 63,
   "metadata": {},
   "outputs": [],
   "source": [
    "mot_stop = ['10', '100', '11', '12', '13', '14', '15', '16', '17', '18', '19', '1994', '1996', '1998', '1999', '20', '2000', '2001', '2002', '2003', '2004', '2005', '2006', '2007', '2008', '2009', '2010', '2011', '2012', '2013', '2014', '2015', '2016', '2017', '2018', '2019', '21', '22', '23', '24', '25', '26', '27', '28', '29', '30', '31', '50']\n",
    "vectorizer = CountVectorizer(max_features=1000, min_df=0.1, max_df=0.7, stop_words = mot_stop)\n",
    "vect = vectorizer.fit_transform(df7['contenu']).toarray()"
   ]
  },
  {
   "cell_type": "markdown",
   "metadata": {},
   "source": [
    "# Les 1000 mots qui apparaissent le plus dans l'ensemble des articles"
   ]
  },
  {
   "cell_type": "code",
   "execution_count": 64,
   "metadata": {},
   "outputs": [
    {
     "name": "stdout",
     "output_type": "stream",
     "text": [
      "['able', 'accord', 'according', 'account', 'accurate', 'across', 'act', 'action', 'actually', 'add', 'additional', 'address', 'administration', 'after', 'agree', 'allow', 'almost', 'along', 'already', 'although', 'america', 'american', 'americans', 'among', 'amount', 'and', 'announce', 'another', 'anyone', 'anything', 'appear', 'april', 'around', 'article', 'as', 'ask', 'at', 'attack', 'attempt', 'august', 'available', 'away', 'back', 'barack', 'base', 'become', 'begin', 'believe', 'best', 'better', 'big', 'bill', 'bite', 'break', 'bring', 'business', 'but', 'call', 'campaign', 'candidate', 'care', 'case', 'center', 'change', 'charge', 'check', 'children', 'circulate', 'cite', 'city', 'claim', 'clear', 'close', 'collected', 'come', 'comment', 'common', 'company', 'concern', 'confirm', 'congress', 'consider', 'contain', 'continue', 'control', 'cost', 'could', 'country', 'course', 'cover', 'create', 'current', 'cut', 'data', 'date', 'day', 'days', 'deal', 'death', 'debate', 'december', 'decide', 'democratic', 'department', 'describe', 'detail', 'different', 'director', 'do', 'document', 'donald', 'due', 'earlier', 'early', 'effect', 'either', 'email', 'end', 'enough', 'even', 'ever', 'every', 'evidence', 'example', 'exist', 'explain', 'face', 'facebook', 'fact', 'facts', 'fake', 'false', 'family', 'far', 'feature', 'february', 'federal', 'figure', 'find', 'first', 'five', 'focus', 'follow', 'for', 'force', 'form', 'former', 'four', 'full', 'fund', 'general', 'get', 'give', 'go', 'good', 'government', 'group', 'hand', 'happen', 'he', 'head', 'health', 'hear', 'help', 'high', 'history', 'hold', 'home', 'house', 'however', 'identify', 'if', 'image', 'important', 'in', 'include', 'increase', 'indeed', 'information', 'instead', 'interest', 'internet', 'interview', 'involve', 'issue', 'it', 'item', 'january', 'job', 'john', 'july', 'june', 'keep', 'kill', 'know', 'large', 'last', 'later', 'law', 'lead', 'least', 'leave', 'less', 'let', 'level', 'life', 'like', 'likely', 'line', 'link', 'list', 'little', 'live', 'local', 'long', 'look', 'lose', 'lot', 'major', 'make', 'man', 'many', 'march', 'matter', 'may', 'mean', 'measure', 'media', 'meet', 'members', 'mention', 'message', 'might', 'million', 'money', 'months', 'move', 'much', 'must', 'name', 'nation', 'national', 'nearly', 'need', 'never', 'new', 'news', 'next', 'no', 'note', 'nothing', 'november', 'number', 'obama', 'october', 'offer', 'office', 'official', 'officials', 'often', 'old', 'on', 'one', 'online', 'open', 'order', 'original', 'origins', 'others', 'our', 'page', 'part', 'party', 'pass', 'past', 'pay', 'people', 'percent', 'person', 'photograph', 'picture', 'piece', 'place', 'plan', 'play', 'point', 'police', 'policy', 'political', 'politifact', 'possible', 'post', 'present', 'president', 'presidential', 'press', 'process', 'program', 'provide', 'public', 'publish', 'put', 'question', 'quote', 'raise', 'rat', 'rate', 'rather', 'reach', 'read', 'real', 'really', 'reason', 'receive', 'recent', 'recently', 'record', 'refer', 'reference', 'release', 'remain', 'report', 'republican', 'require', 'research', 'respond', 'response', 'result', 'right', 'rule', 'rumor', 'run', 'say', 'school', 'second', 'see', 'seek', 'seem', 'sen', 'senate', 'send', 'september', 'serve', 'service', 'set', 'several', 'share', 'she', 'show', 'sign', 'similar', 'simply', 'since', 'sit', 'site', 'small', 'so', 'social', 'someone', 'something', 'source', 'sources', 'speak', 'spend', 'spokesman', 'stand', 'start', 'state', 'statement', 'states', 'status', 'still', 'stop', 'story', 'study', 'suggest', 'support', 'system', 'take', 'talk', 'tax', 'tell', 'term', 'that', 'there', 'they', 'thing', 'things', 'think', 'this', 'though', 'three', 'time', 'times', 'to', 'today', 'top', 'total', 'true', 'trump', 'try', 'turn', 'two', 'united', 'university', 'update', 'us', 'various', 'version', 'via', 'video', 'view', 'vote', 'want', 'washington', 'way', 'we', 'web', 'website', 'week', 'well', 'what', 'when', 'whether', 'while', 'white', 'whose', 'within', 'without', 'word', 'work', 'world', 'would', 'write', 'year', 'years', 'yet', 'york', 'you', 'yous']\n"
     ]
    }
   ],
   "source": [
    "print(vectorizer.get_feature_names())"
   ]
  },
  {
   "cell_type": "code",
   "execution_count": 65,
   "metadata": {},
   "outputs": [
    {
     "data": {
      "text/html": [
       "<div>\n",
       "<style scoped>\n",
       "    .dataframe tbody tr th:only-of-type {\n",
       "        vertical-align: middle;\n",
       "    }\n",
       "\n",
       "    .dataframe tbody tr th {\n",
       "        vertical-align: top;\n",
       "    }\n",
       "\n",
       "    .dataframe thead th {\n",
       "        text-align: right;\n",
       "    }\n",
       "</style>\n",
       "<table border=\"1\" class=\"dataframe\">\n",
       "  <thead>\n",
       "    <tr style=\"text-align: right;\">\n",
       "      <th></th>\n",
       "      <th>fact</th>\n",
       "      <th>fact_LEM</th>\n",
       "      <th>note</th>\n",
       "      <th>auteur_fact</th>\n",
       "      <th>auteur_fact_num</th>\n",
       "      <th>date_fact</th>\n",
       "      <th>source</th>\n",
       "      <th>date_exam</th>\n",
       "      <th>contenu</th>\n",
       "    </tr>\n",
       "  </thead>\n",
       "  <tbody>\n",
       "    <tr>\n",
       "      <th>2783</th>\n",
       "      <td>Since Oregon’s prescription-only law took effect, meth lab incidents have dropped by 96 percent and meth-related arrests by 32 percent.</td>\n",
       "      <td>['Since', 'Oregon', '', 'prescriptiononly', 'law', 'take', 'effect', 'meth', 'lab', 'incidents', 'drop', '96', 'percent', 'methrelated', 'arrest', '32', 'percent']</td>\n",
       "      <td>true</td>\n",
       "      <td>Rob Bovett</td>\n",
       "      <td>1639</td>\n",
       "      <td>2011-03-28</td>\n",
       "      <td>0</td>\n",
       "      <td>2019-10-12</td>\n",
       "      <td>['Oregon', 'get', 'press', 'recent', 'New', 'York', 'Times', 'articleabout', 'grow', 'methamphetamine', 'problem', 'Southern', 'Midwestern', 'state', 'efforts', 'stanch', 'itAccording', 'article',...</td>\n",
       "    </tr>\n",
       "  </tbody>\n",
       "</table>\n",
       "</div>"
      ],
      "text/plain": [
       "                                                                                                                                         fact  \\\n",
       "2783  Since Oregon’s prescription-only law took effect, meth lab incidents have dropped by 96 percent and meth-related arrests by 32 percent.   \n",
       "\n",
       "                                                                                                                                                                 fact_LEM  \\\n",
       "2783  ['Since', 'Oregon', '', 'prescriptiononly', 'law', 'take', 'effect', 'meth', 'lab', 'incidents', 'drop', '96', 'percent', 'methrelated', 'arrest', '32', 'percent']   \n",
       "\n",
       "      note auteur_fact  auteur_fact_num   date_fact  source   date_exam  \\\n",
       "2783  true  Rob Bovett             1639  2011-03-28       0  2019-10-12   \n",
       "\n",
       "                                                                                                                                                                                                      contenu  \n",
       "2783  ['Oregon', 'get', 'press', 'recent', 'New', 'York', 'Times', 'articleabout', 'grow', 'methamphetamine', 'problem', 'Southern', 'Midwestern', 'state', 'efforts', 'stanch', 'itAccording', 'article',...  "
      ]
     },
     "execution_count": 65,
     "metadata": {},
     "output_type": "execute_result"
    }
   ],
   "source": [
    "df7.sample(1)"
   ]
  },
  {
   "cell_type": "code",
   "execution_count": 66,
   "metadata": {},
   "outputs": [],
   "source": [
    "def toVecto(row) :\n",
    "    listRetour = vect[row]\n",
    "    return listRetour"
   ]
  },
  {
   "cell_type": "code",
   "execution_count": 67,
   "metadata": {},
   "outputs": [],
   "source": [
    "df7[\"row_index\"] = df7.index\n",
    "df7[\"lmpu\"] = df7[\"row_index\"].apply(toVecto)"
   ]
  },
  {
   "cell_type": "code",
   "execution_count": 68,
   "metadata": {},
   "outputs": [
    {
     "data": {
      "text/html": [
       "<div>\n",
       "<style scoped>\n",
       "    .dataframe tbody tr th:only-of-type {\n",
       "        vertical-align: middle;\n",
       "    }\n",
       "\n",
       "    .dataframe tbody tr th {\n",
       "        vertical-align: top;\n",
       "    }\n",
       "\n",
       "    .dataframe thead th {\n",
       "        text-align: right;\n",
       "    }\n",
       "</style>\n",
       "<table border=\"1\" class=\"dataframe\">\n",
       "  <thead>\n",
       "    <tr style=\"text-align: right;\">\n",
       "      <th></th>\n",
       "      <th>fact</th>\n",
       "      <th>fact_LEM</th>\n",
       "      <th>note</th>\n",
       "      <th>auteur_fact</th>\n",
       "      <th>auteur_fact_num</th>\n",
       "      <th>date_fact</th>\n",
       "      <th>source</th>\n",
       "      <th>date_exam</th>\n",
       "      <th>contenu</th>\n",
       "      <th>row_index</th>\n",
       "      <th>lmpu</th>\n",
       "    </tr>\n",
       "  </thead>\n",
       "  <tbody>\n",
       "    <tr>\n",
       "      <th>3418</th>\n",
       "      <td>\"\"Bryce Reeves chaired a group bankrolled by a New York billionaire who fired hundreds of Virginia workers and sent their jobs to China.\"\"</td>\n",
       "      <td>['', '', 'Bryce', 'Reeves', 'chair', 'group', 'bankroll', 'New', 'York', 'billionaire', 'fire', 'hundreds', 'Virginia', 'workers', 'send', 'job', 'China']</td>\n",
       "      <td>False</td>\n",
       "      <td>Edd Houck</td>\n",
       "      <td>586</td>\n",
       "      <td>2011-09-29</td>\n",
       "      <td>0</td>\n",
       "      <td>2011-10-12</td>\n",
       "      <td>['Democratic', 'State', 'Sen', 'Edd', 'Houck', 'DSpotsylvania', 'air', 'cable', 'television', 'ad', 'charge', 'Republican', 'opponent', 'Bryce', 'Reeves', 'be', 'OK', 'send', 'Virginia', 'job', 'o...</td>\n",
       "      <td>3418</td>\n",
       "      <td>[0, 0, 0, 1, 0, 0, 0, 0, 0, 2, 0, 0, 0, 0, 0, 0, 0, 0, 0, 1, 0, 0, 0, 0, 0, 0, 0, 0, 1, 2, 0, 0, 0, 0, 0, 2, 0, 0, 0, 0, 0, 3, 0, 0, 0, 2, 2, 0, 0, 2, 0, 0, 0, 0, 6, 2, 2, 0, 0, 0, 0, 0, 0, 0, 0, ...</td>\n",
       "    </tr>\n",
       "  </tbody>\n",
       "</table>\n",
       "</div>"
      ],
      "text/plain": [
       "                                                                                                                                            fact  \\\n",
       "3418  \"\"Bryce Reeves chaired a group bankrolled by a New York billionaire who fired hundreds of Virginia workers and sent their jobs to China.\"\"   \n",
       "\n",
       "                                                                                                                                                        fact_LEM  \\\n",
       "3418  ['', '', 'Bryce', 'Reeves', 'chair', 'group', 'bankroll', 'New', 'York', 'billionaire', 'fire', 'hundreds', 'Virginia', 'workers', 'send', 'job', 'China']   \n",
       "\n",
       "       note auteur_fact  auteur_fact_num   date_fact  source   date_exam  \\\n",
       "3418  False   Edd Houck              586  2011-09-29       0  2011-10-12   \n",
       "\n",
       "                                                                                                                                                                                                      contenu  \\\n",
       "3418  ['Democratic', 'State', 'Sen', 'Edd', 'Houck', 'DSpotsylvania', 'air', 'cable', 'television', 'ad', 'charge', 'Republican', 'opponent', 'Bryce', 'Reeves', 'be', 'OK', 'send', 'Virginia', 'job', 'o...   \n",
       "\n",
       "      row_index  \\\n",
       "3418       3418   \n",
       "\n",
       "                                                                                                                                                                                                         lmpu  \n",
       "3418  [0, 0, 0, 1, 0, 0, 0, 0, 0, 2, 0, 0, 0, 0, 0, 0, 0, 0, 0, 1, 0, 0, 0, 0, 0, 0, 0, 0, 1, 2, 0, 0, 0, 0, 0, 2, 0, 0, 0, 0, 0, 3, 0, 0, 0, 2, 2, 0, 0, 2, 0, 0, 0, 0, 6, 2, 2, 0, 0, 0, 0, 0, 0, 0, 0, ...  "
      ]
     },
     "execution_count": 68,
     "metadata": {},
     "output_type": "execute_result"
    }
   ],
   "source": [
    "df7.sample(1)"
   ]
  },
  {
   "cell_type": "code",
   "execution_count": 69,
   "metadata": {},
   "outputs": [
    {
     "data": {
      "text/html": [
       "<div>\n",
       "<style scoped>\n",
       "    .dataframe tbody tr th:only-of-type {\n",
       "        vertical-align: middle;\n",
       "    }\n",
       "\n",
       "    .dataframe tbody tr th {\n",
       "        vertical-align: top;\n",
       "    }\n",
       "\n",
       "    .dataframe thead th {\n",
       "        text-align: right;\n",
       "    }\n",
       "</style>\n",
       "<table border=\"1\" class=\"dataframe\">\n",
       "  <thead>\n",
       "    <tr style=\"text-align: right;\">\n",
       "      <th></th>\n",
       "      <th>fact</th>\n",
       "      <th>fact_LEM</th>\n",
       "      <th>note</th>\n",
       "      <th>auteur_fact</th>\n",
       "      <th>auteur_fact_num</th>\n",
       "      <th>date_fact</th>\n",
       "      <th>source</th>\n",
       "      <th>date_exam</th>\n",
       "      <th>lmpu</th>\n",
       "      <th>contenu</th>\n",
       "    </tr>\n",
       "  </thead>\n",
       "  <tbody>\n",
       "    <tr>\n",
       "      <th>390</th>\n",
       "      <td>The late Penny Marshall donated her entire estate to President Donald Trump's 2020 re-election campaign.</td>\n",
       "      <td>['The', 'late', 'Penny', 'Marshall', 'donate', 'entire', 'estate', 'President', 'Donald', 'Trump', 's', '2020', 'reelection', 'campaign']</td>\n",
       "      <td>False</td>\n",
       "      <td>ANONYME</td>\n",
       "      <td>7</td>\n",
       "      <td>2018-12-18</td>\n",
       "      <td>1</td>\n",
       "      <td>2018-12-18</td>\n",
       "      <td>[0, 0, 2, 0, 0, 0, 0, 0, 0, 0, 0, 0, 0, 0, 0, 0, 0, 0, 0, 0, 1, 0, 0, 1, 0, 0, 0, 0, 0, 2, 0, 0, 2, 2, 0, 0, 0, 0, 0, 0, 0, 0, 0, 0, 0, 0, 1, 2, 0, 0, 0, 0, 2, 0, 0, 2, 0, 0, 2, 0, 0, 0, 0, 0, 0, ...</td>\n",
       "      <td>['The', 'news', 'actress', 'director', 'Penny', 'Marshall', '', 'death', '18', 'December', '2018', 'mere', 'hours', 'old', 'word', 'begin', 'go', 'around', 'social', 'media', 'leave', 'entire', 'e...</td>\n",
       "    </tr>\n",
       "  </tbody>\n",
       "</table>\n",
       "</div>"
      ],
      "text/plain": [
       "                                                                                                         fact  \\\n",
       "390  The late Penny Marshall donated her entire estate to President Donald Trump's 2020 re-election campaign.   \n",
       "\n",
       "                                                                                                                                      fact_LEM  \\\n",
       "390  ['The', 'late', 'Penny', 'Marshall', 'donate', 'entire', 'estate', 'President', 'Donald', 'Trump', 's', '2020', 'reelection', 'campaign']   \n",
       "\n",
       "      note auteur_fact  auteur_fact_num   date_fact  source   date_exam  \\\n",
       "390  False     ANONYME                7  2018-12-18       1  2018-12-18   \n",
       "\n",
       "                                                                                                                                                                                                        lmpu  \\\n",
       "390  [0, 0, 2, 0, 0, 0, 0, 0, 0, 0, 0, 0, 0, 0, 0, 0, 0, 0, 0, 0, 1, 0, 0, 1, 0, 0, 0, 0, 0, 2, 0, 0, 2, 2, 0, 0, 0, 0, 0, 0, 0, 0, 0, 0, 0, 0, 1, 2, 0, 0, 0, 0, 2, 0, 0, 2, 0, 0, 2, 0, 0, 0, 0, 0, 0, ...   \n",
       "\n",
       "                                                                                                                                                                                                     contenu  \n",
       "390  ['The', 'news', 'actress', 'director', 'Penny', 'Marshall', '', 'death', '18', 'December', '2018', 'mere', 'hours', 'old', 'word', 'begin', 'go', 'around', 'social', 'media', 'leave', 'entire', 'e...  "
      ]
     },
     "execution_count": 69,
     "metadata": {},
     "output_type": "execute_result"
    }
   ],
   "source": [
    "df7 = df7[[\"fact\",\"fact_LEM\",\"note\",\"auteur_fact\",\"auteur_fact_num\",\"date_fact\",\"source\",\"date_exam\",\"lmpu\",\"contenu\"]]\n",
    "#df7.rename(columns={\"fact_LEM\": \"fact\"}, inplace=True)\n",
    "df7.sample(1)"
   ]
  },
  {
   "cell_type": "code",
   "execution_count": 70,
   "metadata": {},
   "outputs": [],
   "source": [
    "df7.to_csv('../Dataset/claim5.csv',sep=',', index=False)"
   ]
  },
  {
   "cell_type": "markdown",
   "metadata": {},
   "source": [
    "# Deuxieme test classifieur"
   ]
  },
  {
   "cell_type": "code",
   "execution_count": 71,
   "metadata": {},
   "outputs": [
    {
     "data": {
      "text/html": [
       "<div>\n",
       "<style scoped>\n",
       "    .dataframe tbody tr th:only-of-type {\n",
       "        vertical-align: middle;\n",
       "    }\n",
       "\n",
       "    .dataframe tbody tr th {\n",
       "        vertical-align: top;\n",
       "    }\n",
       "\n",
       "    .dataframe thead th {\n",
       "        text-align: right;\n",
       "    }\n",
       "</style>\n",
       "<table border=\"1\" class=\"dataframe\">\n",
       "  <thead>\n",
       "    <tr style=\"text-align: right;\">\n",
       "      <th></th>\n",
       "      <th>fact</th>\n",
       "      <th>fact_LEM</th>\n",
       "      <th>note</th>\n",
       "      <th>auteur_fact</th>\n",
       "      <th>auteur_fact_num</th>\n",
       "      <th>source</th>\n",
       "      <th>lmpu</th>\n",
       "      <th>contenu</th>\n",
       "    </tr>\n",
       "  </thead>\n",
       "  <tbody>\n",
       "    <tr>\n",
       "      <th>3714</th>\n",
       "      <td>In October 2017, a \"\"demonic\"\" drag queen read a \"\"sexually explicit\"\" book to children at a Long Beach public library named after Michelle Obama.</td>\n",
       "      <td>['In', 'October', '2017', '', 'demonic', 'drag', 'queen', 'read', '', 'sexually', 'explicit', 'book', 'children', 'Long', 'Beach', 'public', 'library', 'name', 'Michelle', 'Obama']</td>\n",
       "      <td>mixture</td>\n",
       "      <td>ANONYME</td>\n",
       "      <td>7</td>\n",
       "      <td>1</td>\n",
       "      <td>[0, 0, 0, 0, 0, 0, 2, 0, 2, 0, 0, 0, 0, 0, 0, 3, 3, 7, 0, 0, 0, 0, 0, 0, 1, 2, 0, 1, 0, 0, 0, 0, 2, 2, 2, 0, 0, 0, 0, 0, 0, 0, 2, 0, 1, 0, 2, 0, 0, 0, 0, 4, 0, 0, 0, 0, 0, 6, 0, 0, 0, 0, 0, 0, 0, ...</td>\n",
       "      <td>['In', 'October', '2017', 'rightwing', 'web', 'sit', 'report', 'significant', 'degree', 'alarm', 'drag', 'queen', '', 'Sataninspired', 'costume', '', 'read', 'children', 'California', 'public', 'l...</td>\n",
       "    </tr>\n",
       "  </tbody>\n",
       "</table>\n",
       "</div>"
      ],
      "text/plain": [
       "                                                                                                                                                    fact  \\\n",
       "3714  In October 2017, a \"\"demonic\"\" drag queen read a \"\"sexually explicit\"\" book to children at a Long Beach public library named after Michelle Obama.   \n",
       "\n",
       "                                                                                                                                                                                  fact_LEM  \\\n",
       "3714  ['In', 'October', '2017', '', 'demonic', 'drag', 'queen', 'read', '', 'sexually', 'explicit', 'book', 'children', 'Long', 'Beach', 'public', 'library', 'name', 'Michelle', 'Obama']   \n",
       "\n",
       "         note auteur_fact  auteur_fact_num  source  \\\n",
       "3714  mixture     ANONYME                7       1   \n",
       "\n",
       "                                                                                                                                                                                                         lmpu  \\\n",
       "3714  [0, 0, 0, 0, 0, 0, 2, 0, 2, 0, 0, 0, 0, 0, 0, 3, 3, 7, 0, 0, 0, 0, 0, 0, 1, 2, 0, 1, 0, 0, 0, 0, 2, 2, 2, 0, 0, 0, 0, 0, 0, 0, 2, 0, 1, 0, 2, 0, 0, 0, 0, 4, 0, 0, 0, 0, 0, 6, 0, 0, 0, 0, 0, 0, 0, ...   \n",
       "\n",
       "                                                                                                                                                                                                      contenu  \n",
       "3714  ['In', 'October', '2017', 'rightwing', 'web', 'sit', 'report', 'significant', 'degree', 'alarm', 'drag', 'queen', '', 'Sataninspired', 'costume', '', 'read', 'children', 'California', 'public', 'l...  "
      ]
     },
     "execution_count": 71,
     "metadata": {},
     "output_type": "execute_result"
    }
   ],
   "source": [
    "df7bis = df7.copy()\n",
    "del df7bis[\"date_exam\"]\n",
    "del df7bis[\"date_fact\"]\n",
    "df7bis[\"note\"] = df7bis[\"note\"].apply(toLower)\n",
    "df7bis.sample(1)"
   ]
  },
  {
   "cell_type": "code",
   "execution_count": 72,
   "metadata": {},
   "outputs": [],
   "source": [
    "array = df7bis.values\n",
    "\n",
    "#sans les dates\n",
    "X = array[:,4:6]\n",
    "y = array[:,2]\n",
    "\n",
    "#avec les dates\n",
    "#df7[\"date_exam\"] = class_label_encoder.fit_transform(df7[\"date_exam\"])\n",
    "#df7[\"date_fact\"] = class_label_encoder.fit_transform(df7[\"date_fact\"])\n",
    "#X = array[:,[4,6,8]]\n",
    "#y = array[:,2]"
   ]
  },
  {
   "cell_type": "code",
   "execution_count": 73,
   "metadata": {
    "scrolled": true
   },
   "outputs": [
    {
     "data": {
      "text/html": [
       "<div>\n",
       "<style scoped>\n",
       "    .dataframe tbody tr th:only-of-type {\n",
       "        vertical-align: middle;\n",
       "    }\n",
       "\n",
       "    .dataframe tbody tr th {\n",
       "        vertical-align: top;\n",
       "    }\n",
       "\n",
       "    .dataframe thead th {\n",
       "        text-align: right;\n",
       "    }\n",
       "</style>\n",
       "<table border=\"1\" class=\"dataframe\">\n",
       "  <thead>\n",
       "    <tr style=\"text-align: right;\">\n",
       "      <th></th>\n",
       "      <th>fact</th>\n",
       "      <th>fact_LEM</th>\n",
       "      <th>note</th>\n",
       "      <th>auteur_fact</th>\n",
       "      <th>auteur_fact_num</th>\n",
       "      <th>date_fact</th>\n",
       "      <th>source</th>\n",
       "      <th>date_exam</th>\n",
       "      <th>lmpu</th>\n",
       "      <th>contenu</th>\n",
       "    </tr>\n",
       "  </thead>\n",
       "  <tbody>\n",
       "    <tr>\n",
       "      <th>2219</th>\n",
       "      <td>Ben Carson said abortions led to baby ghosts haunting hospitals, stealing medical supplies, and increasing healthcare costs.</td>\n",
       "      <td>['Ben', 'Carson', 'say', 'abortions', 'lead', 'baby', 'ghost', 'haunt', 'hospitals', 'steal', 'medical', 'supply', 'increase', 'healthcare', 'cost']</td>\n",
       "      <td>False</td>\n",
       "      <td>ANONYME</td>\n",
       "      <td>7</td>\n",
       "      <td>2016-12-07</td>\n",
       "      <td>1</td>\n",
       "      <td>2016-12-07</td>\n",
       "      <td>[0, 0, 0, 0, 0, 0, 0, 0, 0, 0, 0, 0, 1, 0, 0, 0, 0, 1, 0, 0, 0, 0, 0, 0, 0, 0, 1, 0, 0, 1, 1, 0, 0, 0, 0, 0, 0, 0, 0, 0, 1, 0, 0, 0, 0, 0, 1, 0, 0, 0, 0, 0, 0, 0, 0, 0, 0, 0, 0, 1, 0, 0, 0, 0, 0, ...</td>\n",
       "      <td>['Former', 'GOP', 'candidate', 'Ben', 'Carson', 'make', 'news', 'headline', 'December', '2016', 'Presidentelect', 'Donald', 'Trump', '', 'transition', 'team', 'announce', 'appointment', 'secretary...</td>\n",
       "    </tr>\n",
       "  </tbody>\n",
       "</table>\n",
       "</div>"
      ],
      "text/plain": [
       "                                                                                                                              fact  \\\n",
       "2219  Ben Carson said abortions led to baby ghosts haunting hospitals, stealing medical supplies, and increasing healthcare costs.   \n",
       "\n",
       "                                                                                                                                                  fact_LEM  \\\n",
       "2219  ['Ben', 'Carson', 'say', 'abortions', 'lead', 'baby', 'ghost', 'haunt', 'hospitals', 'steal', 'medical', 'supply', 'increase', 'healthcare', 'cost']   \n",
       "\n",
       "       note auteur_fact  auteur_fact_num   date_fact  source   date_exam  \\\n",
       "2219  False     ANONYME                7  2016-12-07       1  2016-12-07   \n",
       "\n",
       "                                                                                                                                                                                                         lmpu  \\\n",
       "2219  [0, 0, 0, 0, 0, 0, 0, 0, 0, 0, 0, 0, 1, 0, 0, 0, 0, 1, 0, 0, 0, 0, 0, 0, 0, 0, 1, 0, 0, 1, 1, 0, 0, 0, 0, 0, 0, 0, 0, 0, 1, 0, 0, 0, 0, 0, 1, 0, 0, 0, 0, 0, 0, 0, 0, 0, 0, 0, 0, 1, 0, 0, 0, 0, 0, ...   \n",
       "\n",
       "                                                                                                                                                                                                      contenu  \n",
       "2219  ['Former', 'GOP', 'candidate', 'Ben', 'Carson', 'make', 'news', 'headline', 'December', '2016', 'Presidentelect', 'Donald', 'Trump', '', 'transition', 'team', 'announce', 'appointment', 'secretary...  "
      ]
     },
     "execution_count": 73,
     "metadata": {},
     "output_type": "execute_result"
    }
   ],
   "source": [
    "df7.sample(1)"
   ]
  },
  {
   "cell_type": "code",
   "execution_count": 74,
   "metadata": {},
   "outputs": [],
   "source": [
    "validation_size=0.3 #30% du jeu de données pour le test\n",
    "testsize= 1-validation_size\n",
    "seed=30\n",
    "X_train, X_test, y_train, y_test = train_test_split(X, y,train_size=validation_size,random_state=seed,test_size=testsize)"
   ]
  },
  {
   "cell_type": "code",
   "execution_count": 75,
   "metadata": {},
   "outputs": [
    {
     "name": "stdout",
     "output_type": "stream",
     "text": [
      "\n",
      " accuracy : 0.26243312859124235 \n",
      "\n",
      "[[1148 4208 1152]\n",
      " [   0  684    0]\n",
      " [ 815 1270  817]]\n",
      "              precision    recall  f1-score   support\n",
      "\n",
      "       false       0.58      0.18      0.27      6508\n",
      "     mixture       0.11      1.00      0.20       684\n",
      "        true       0.41      0.28      0.34      2902\n",
      "\n",
      "    accuracy                           0.26     10094\n",
      "   macro avg       0.37      0.49      0.27     10094\n",
      "weighted avg       0.50      0.26      0.28     10094\n",
      "\n"
     ]
    }
   ],
   "source": [
    "clf = GaussianNB()\n",
    "clf.fit(X_train, y_train)\n",
    "result = clf.predict(X_test)\n",
    "print('\\n accuracy :',accuracy_score(result,y_test),'\\n')\n",
    "print(confusion_matrix(y_test,result))\n",
    "print(classification_report(y_test,result))"
   ]
  },
  {
   "cell_type": "code",
   "execution_count": 76,
   "metadata": {},
   "outputs": [
    {
     "name": "stdout",
     "output_type": "stream",
     "text": [
      "KNN: 0.548613 (0.410415)\n",
      "[1.         1.         1.         1.         0.74410541 0.2850208\n",
      " 0.18099861 0.09084605 0.11581137 0.06934813]\n",
      "DTC: 0.558114 (0.404283)\n",
      "[1.         1.         1.         1.         0.74965326 0.35090153\n",
      " 0.17545076 0.09292649 0.14008322 0.07212205]\n",
      "NB: 0.046671 (0.056550)\n",
      "[0.         0.         0.         0.         0.12690707 0.02149792\n",
      " 0.1407767  0.11719834 0.         0.06033287]\n",
      "RFO: 0.554716 (0.404585)\n",
      "[1.         1.         1.         1.         0.740638   0.31622746\n",
      " 0.16712899 0.0998613  0.14771151 0.07558946]\n"
     ]
    }
   ],
   "source": [
    "seed = 30\n",
    "scoring = 'accuracy'\n",
    "models = []\n",
    "models.append(('KNN', KNeighborsClassifier()))\n",
    "models.append(('DTC', DecisionTreeClassifier()))\n",
    "models.append(('NB', GaussianNB()))\n",
    "models.append(('RFO', RandomForestClassifier()))\n",
    "\n",
    "results = []\n",
    "names = []\n",
    "for name,model in models:\n",
    "    kfold = KFold(n_splits=10, random_state=seed)\n",
    "    cv_results = cross_val_score(model, X,y, cv=kfold, scoring=scoring)\n",
    "    results.append(cv_results)\n",
    "    names.append(name)\n",
    "    msg = \"%s: %f (%f)\" % (name, cv_results.mean(),cv_results.std())\n",
    "    print(msg)\n",
    "    print(cv_results)"
   ]
  },
  {
   "cell_type": "code",
   "execution_count": 77,
   "metadata": {},
   "outputs": [
    {
     "data": {
      "text/plain": [
       "[Text(0, 0, 'KNN'), Text(0, 0, 'DTC'), Text(0, 0, 'NB'), Text(0, 0, 'RFO')]"
      ]
     },
     "execution_count": 77,
     "metadata": {},
     "output_type": "execute_result"
    },
    {
     "data": {
      "image/png": "[encoded data removed]",
      "text/plain": [
       "<Figure size 432x288 with 1 Axes>"
      ]
     },
     "metadata": {
      "needs_background": "light"
     },
     "output_type": "display_data"
    }
   ],
   "source": [
    "fig = plt.figure()\n",
    "fig.suptitle('Comparaison des algorithmes')\n",
    "ax = fig.add_subplot(111)\n",
    "plt.boxplot(results)\n",
    "ax.set_xticklabels(names)"
   ]
  },
  {
   "cell_type": "code",
   "execution_count": 78,
   "metadata": {},
   "outputs": [
    {
     "name": "stdout",
     "output_type": "stream",
     "text": [
      "meilleur score  0.6490984743411928 \n",
      "\n",
      "meilleurs paramètres {'metric': 'euclidean', 'n_neighbors': 10, 'weights': 'distance'} \n",
      "\n"
     ]
    }
   ],
   "source": [
    "# /////////////////////\n",
    "# ///// KNN //////////\n",
    "# ////////////////////\n",
    "\n",
    "grid_paramKNN = {'n_neighbors': [5,10,20,38],\n",
    "'weights' : ['uniform', 'distance'],\n",
    "'metric' : ['euclidean','manhattan']\n",
    "}\n",
    "\n",
    "gd_srKNN = GridSearchCV(estimator=KNeighborsClassifier(),param_grid=grid_paramKNN,\n",
    "scoring='accuracy',cv=5,n_jobs=-1,iid=True,return_train_score=True)\n",
    "\n",
    "gd_srKNN.fit(X_train, y_train)\n",
    "print ('meilleur score ',gd_srKNN.best_score_,'\\n')\n",
    "print ('meilleurs paramètres',gd_srKNN.best_params_,'\\n')"
   ]
  },
  {
   "cell_type": "code",
   "execution_count": 79,
   "metadata": {},
   "outputs": [
    {
     "name": "stdout",
     "output_type": "stream",
     "text": [
      "meilleur score  0.6523347202958854 \n",
      "\n",
      "meilleurs paramètres {'criterion': 'gini', 'max_depth': 4, 'max_features': 'log2', 'min_samples_leaf': 4, 'min_samples_split': 4, 'n_estimators': 10} \n",
      "\n"
     ]
    }
   ],
   "source": [
    "# /////////////////////\n",
    "# ///// RFO //////////\n",
    "# ////////////////////\n",
    "\n",
    "grid_paramRFO = {'n_estimators': [8,9,10],\n",
    "'max_features': ['log2', 'sqrt'],\n",
    "'criterion': ['entropy', 'gini'],\n",
    "'max_depth': [2,3,4,5,6],\n",
    "'min_samples_split': [2,3,4,5,6,7],\n",
    "'min_samples_leaf': [4,5,6]\n",
    "}\n",
    "\n",
    "gd_srRFO = GridSearchCV(estimator=RandomForestClassifier(),param_grid=grid_paramRFO,\n",
    "scoring='accuracy',cv=5,n_jobs=-1,iid=True,return_train_score=True)\n",
    "\n",
    "gd_srRFO.fit(X_train, y_train)\n",
    "print ('meilleur score ',gd_srRFO.best_score_,'\\n')\n",
    "print ('meilleurs paramètres',gd_srRFO.best_params_,'\\n')"
   ]
  },
  {
   "cell_type": "code",
   "execution_count": 80,
   "metadata": {},
   "outputs": [
    {
     "name": "stdout",
     "output_type": "stream",
     "text": [
      "meilleur score  0.6495607951918632 \n",
      "\n",
      "meilleurs paramètres {'criterion': 'gini', 'min_samples_leaf': 35, 'min_samples_split': 2, 'splitter': 'best'} \n",
      "\n"
     ]
    }
   ],
   "source": [
    "# /////////////////////\n",
    "# ///// DTC //////////\n",
    "# ////////////////////\n",
    "\n",
    "grid_paramDTC = {\n",
    "'splitter' : ['best','random'],\n",
    "'criterion' : ['gini', 'entropy'],\n",
    "'min_samples_leaf': [30,35,40],\n",
    "'min_samples_split' : [1,2,3,4,5,10]\n",
    "}\n",
    "\n",
    "gd_srDTC = GridSearchCV(estimator=DecisionTreeClassifier(),param_grid=grid_paramDTC,\n",
    "scoring='accuracy',cv=10,n_jobs=-1,iid=True,return_train_score=True)\n",
    "\n",
    "gd_srDTC.fit(X_train, y_train)\n",
    "\n",
    "print ('meilleur score ',gd_srDTC.best_score_,'\\n')\n",
    "print ('meilleurs paramètres', gd_srDTC.best_params_,'\\n')"
   ]
  },
  {
   "cell_type": "markdown",
   "metadata": {},
   "source": [
    "# Enregistrement du meilleur modèle (DTC)"
   ]
  },
  {
   "cell_type": "code",
   "execution_count": 81,
   "metadata": {},
   "outputs": [],
   "source": [
    "clf = gd_srDTC.best_estimator_\n",
    "\n",
    "with open('fact_model.sav', 'wb') as myfile:\n",
    "    pickle.dump(clf,myfile)"
   ]
  },
  {
   "cell_type": "markdown",
   "metadata": {},
   "source": [
    "# Chargement et execution du modèle"
   ]
  },
  {
   "cell_type": "code",
   "execution_count": 82,
   "metadata": {},
   "outputs": [
    {
     "name": "stdout",
     "output_type": "stream",
     "text": [
      "Modèle chargé DecisionTreeClassifier(ccp_alpha=0.0, class_weight=None, criterion='gini',\n",
      "                       max_depth=None, max_features=None, max_leaf_nodes=None,\n",
      "                       min_impurity_decrease=0.0, min_impurity_split=None,\n",
      "                       min_samples_leaf=35, min_samples_split=2,\n",
      "                       min_weight_fraction_leaf=0.0, presort='deprecated',\n",
      "                       random_state=None, splitter='best') \n",
      "\n",
      "\n",
      " accuracy:\n",
      "\n",
      "0.6374083614028135 \n",
      "\n",
      "\n",
      " matrice de confusion \n",
      " [[5694    0  814]\n",
      " [ 684    0    0]\n",
      " [2162    0  740]]\n",
      "\n",
      "               precision    recall  f1-score   support\n",
      "\n",
      "       false       0.67      0.87      0.76      6508\n",
      "     mixture       0.00      0.00      0.00       684\n",
      "        true       0.48      0.25      0.33      2902\n",
      "\n",
      "    accuracy                           0.64     10094\n",
      "   macro avg       0.38      0.38      0.36     10094\n",
      "weighted avg       0.57      0.64      0.58     10094\n",
      "\n"
     ]
    },
    {
     "name": "stderr",
     "output_type": "stream",
     "text": [
      "d:\\docs\\cours\\m1\\hmin232\\env\\lib\\site-packages\\sklearn\\metrics\\_classification.py:1272: UndefinedMetricWarning: Precision and F-score are ill-defined and being set to 0.0 in labels with no predicted samples. Use `zero_division` parameter to control this behavior.\n",
      "  _warn_prf(average, modifier, msg_start, len(result))\n"
     ]
    }
   ],
   "source": [
    "clf_loaded = pickle.load(open('fact_model.sav', 'rb'))\n",
    "print ('Modèle chargé',clf_loaded,'\\n')\n",
    "result = clf_loaded.predict(X_test)\n",
    "\n",
    "print('\\n accuracy:\\n')\n",
    "print (accuracy_score(result, y_test),'\\n')\n",
    "\n",
    "conf = confusion_matrix(y_test, result)\n",
    "print ('\\n matrice de confusion \\n',conf)\n",
    "print ('\\n',classification_report(y_test, result))"
   ]
  }
 ],
 "metadata": {
  "kernelspec": {
   "display_name": "Python 3",
   "language": "python",
   "name": "python3"
  },
  "language_info": {
   "codemirror_mode": {
    "name": "ipython",
    "version": 3
   },
   "file_extension": ".py",
   "mimetype": "text/x-python",
   "name": "python",
   "nbconvert_exporter": "python",
   "pygments_lexer": "ipython3",
   "version": "3.8.2"
  }
 },
 "nbformat": 4,
 "nbformat_minor": 4
}
